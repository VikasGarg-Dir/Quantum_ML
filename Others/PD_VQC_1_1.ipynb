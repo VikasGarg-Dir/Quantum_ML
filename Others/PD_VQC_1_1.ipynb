{
  "nbformat": 4,
  "nbformat_minor": 0,
  "metadata": {
    "colab": {
      "provenance": [],
      "gpuType": "T4"
    },
    "kernelspec": {
      "name": "python3",
      "display_name": "Python 3"
    },
    "language_info": {
      "name": "python"
    },
    "accelerator": "GPU"
  },
  "cells": [
    {
      "cell_type": "code",
      "execution_count": 20,
      "metadata": {
        "id": "zHGklN1QU0bk"
      },
      "outputs": [],
      "source": [
        "# Step 1: Import packages\n",
        "import numpy as np\n",
        "import pandas as pd\n",
        "from sklearn.model_selection import train_test_split\n",
        "from sklearn.preprocessing import StandardScaler\n",
        "from sklearn.metrics import accuracy_score, classification_report\n",
        "\n",
        "from qiskit import QuantumCircuit\n",
        "from qiskit.circuit.library import ZZFeatureMap, RealAmplitudes\n",
        "from qiskit.primitives import Estimator\n",
        "from qiskit.algorithms.optimizers import ADAM\n",
        "\n",
        "from qiskit_machine_learning.neural_networks import EstimatorQNN\n",
        "from qiskit_machine_learning.algorithms import NeuralNetworkClassifier"
      ]
    },
    {
      "cell_type": "code",
      "source": [
        "import warnings\n",
        "warnings.filterwarnings(\"ignore\")"
      ],
      "metadata": {
        "id": "_-FK1YwYduuY"
      },
      "execution_count": 31,
      "outputs": []
    },
    {
      "cell_type": "code",
      "source": [
        "!pip install \"qiskit==0.45.2\" \"qiskit-machine-learning==0.6.1\" \"qiskit-optimization==0.6.0\" \"qiskit-algorithms==0.2.1\" \"qiskit-aer\""
      ],
      "metadata": {
        "colab": {
          "base_uri": "https://localhost:8080/"
        },
        "id": "1ax0tcA5VecS",
        "outputId": "b18cbbff-c350-49a9-bed6-a2e24f6d685c"
      },
      "execution_count": 1,
      "outputs": [
        {
          "output_type": "stream",
          "name": "stdout",
          "text": [
            "Requirement already satisfied: qiskit==0.45.2 in /usr/local/lib/python3.11/dist-packages (0.45.2)\n",
            "Requirement already satisfied: qiskit-machine-learning==0.6.1 in /usr/local/lib/python3.11/dist-packages (0.6.1)\n",
            "Requirement already satisfied: qiskit-optimization==0.6.0 in /usr/local/lib/python3.11/dist-packages (0.6.0)\n",
            "Requirement already satisfied: qiskit-algorithms==0.2.1 in /usr/local/lib/python3.11/dist-packages (0.2.1)\n",
            "Requirement already satisfied: qiskit-aer in /usr/local/lib/python3.11/dist-packages (0.14.2)\n",
            "Requirement already satisfied: qiskit-terra==0.45.2 in /usr/local/lib/python3.11/dist-packages (from qiskit==0.45.2) (0.45.2)\n",
            "Requirement already satisfied: scipy>=1.4 in /usr/local/lib/python3.11/dist-packages (from qiskit-machine-learning==0.6.1) (1.15.2)\n",
            "Requirement already satisfied: numpy>=1.17 in /usr/local/lib/python3.11/dist-packages (from qiskit-machine-learning==0.6.1) (1.26.4)\n",
            "Requirement already satisfied: psutil>=5 in /usr/local/lib/python3.11/dist-packages (from qiskit-machine-learning==0.6.1) (5.9.5)\n",
            "Requirement already satisfied: scikit-learn>=0.20.0 in /usr/local/lib/python3.11/dist-packages (from qiskit-machine-learning==0.6.1) (1.6.1)\n",
            "Requirement already satisfied: fastdtw in /usr/local/lib/python3.11/dist-packages (from qiskit-machine-learning==0.6.1) (0.3.4)\n",
            "Requirement already satisfied: setuptools>=40.1.0 in /usr/local/lib/python3.11/dist-packages (from qiskit-machine-learning==0.6.1) (75.2.0)\n",
            "Requirement already satisfied: dill>=0.3.4 in /usr/local/lib/python3.11/dist-packages (from qiskit-machine-learning==0.6.1) (0.4.0)\n",
            "Requirement already satisfied: docplex!=2.24.231,>=2.21.207 in /usr/local/lib/python3.11/dist-packages (from qiskit-optimization==0.6.0) (2.29.245)\n",
            "Requirement already satisfied: networkx>=2.6.3 in /usr/local/lib/python3.11/dist-packages (from qiskit-optimization==0.6.0) (3.4.2)\n",
            "Requirement already satisfied: rustworkx>=0.13.0 in /usr/local/lib/python3.11/dist-packages (from qiskit-terra==0.45.2->qiskit==0.45.2) (0.16.0)\n",
            "Requirement already satisfied: ply>=3.10 in /usr/local/lib/python3.11/dist-packages (from qiskit-terra==0.45.2->qiskit==0.45.2) (3.11)\n",
            "Requirement already satisfied: sympy>=1.3 in /usr/local/lib/python3.11/dist-packages (from qiskit-terra==0.45.2->qiskit==0.45.2) (1.13.1)\n",
            "Requirement already satisfied: python-dateutil>=2.8.0 in /usr/local/lib/python3.11/dist-packages (from qiskit-terra==0.45.2->qiskit==0.45.2) (2.9.0.post0)\n",
            "Requirement already satisfied: stevedore>=3.0.0 in /usr/local/lib/python3.11/dist-packages (from qiskit-terra==0.45.2->qiskit==0.45.2) (5.4.1)\n",
            "Requirement already satisfied: symengine!=0.10.0,>=0.9 in /usr/local/lib/python3.11/dist-packages (from qiskit-terra==0.45.2->qiskit==0.45.2) (0.14.1)\n",
            "Requirement already satisfied: six in /usr/local/lib/python3.11/dist-packages (from docplex!=2.24.231,>=2.21.207->qiskit-optimization==0.6.0) (1.17.0)\n",
            "Requirement already satisfied: joblib>=1.2.0 in /usr/local/lib/python3.11/dist-packages (from scikit-learn>=0.20.0->qiskit-machine-learning==0.6.1) (1.4.2)\n",
            "Requirement already satisfied: threadpoolctl>=3.1.0 in /usr/local/lib/python3.11/dist-packages (from scikit-learn>=0.20.0->qiskit-machine-learning==0.6.1) (3.6.0)\n",
            "Requirement already satisfied: pbr>=2.0.0 in /usr/local/lib/python3.11/dist-packages (from stevedore>=3.0.0->qiskit-terra==0.45.2->qiskit==0.45.2) (6.1.1)\n",
            "Requirement already satisfied: mpmath<1.4,>=1.1.0 in /usr/local/lib/python3.11/dist-packages (from sympy>=1.3->qiskit-terra==0.45.2->qiskit==0.45.2) (1.3.0)\n"
          ]
        }
      ]
    },
    {
      "cell_type": "code",
      "source": [
        "# Step 2: Load and preprocess the Parkinson’s dataset\n",
        "url = \"https://archive.ics.uci.edu/ml/machine-learning-databases/parkinsons/parkinsons.data\"\n",
        "df = pd.read_csv(url)\n",
        "\n",
        "X = df.drop(columns=['name', 'status'])  # Features\n",
        "y = df['status']                         # Labels (0 or 1)\n",
        "\n",
        "# Train/test split\n",
        "X_train, X_test, y_train, y_test = train_test_split(X, y, test_size=0.2, random_state=42)\n",
        "\n",
        "# Normalize\n",
        "scaler = StandardScaler()\n",
        "X_train = scaler.fit_transform(X_train)\n",
        "X_test = scaler.transform(X_test)\n",
        "\n",
        "# Reduce dimensions to match qubit count (e.g., 4 qubits)\n",
        "from sklearn.decomposition import PCA\n",
        "pca = PCA(n_components=4)\n",
        "X_train = pca.fit_transform(X_train)\n",
        "X_test = pca.transform(X_test)"
      ],
      "metadata": {
        "id": "sYGfBy7dU2t2"
      },
      "execution_count": 22,
      "outputs": []
    },
    {
      "cell_type": "code",
      "source": [
        "# Step 3: Define quantum circuit components\n",
        "num_qubits = 4\n",
        "feature_map = ZZFeatureMap(num_qubits)\n",
        "ansatz = RealAmplitudes(num_qubits, reps=1)"
      ],
      "metadata": {
        "id": "LUguhQn0U2rk"
      },
      "execution_count": 23,
      "outputs": []
    },
    {
      "cell_type": "code",
      "source": [
        "# Step 4: Combine feature map and ansatz\n",
        "composed_circuit = QuantumCircuit(num_qubits)\n",
        "composed_circuit.compose(feature_map, inplace=True)\n",
        "composed_circuit.compose(ansatz, inplace=True)"
      ],
      "metadata": {
        "id": "6cnZOJ0VU2pR"
      },
      "execution_count": 25,
      "outputs": []
    },
    {
      "cell_type": "code",
      "source": [
        "# Step 5: Build Estimator and QNN\n",
        "estimator = Estimator()\n",
        "qnn = EstimatorQNN(\n",
        "    circuit=composed_circuit,\n",
        "    input_params=feature_map.parameters,\n",
        "    weight_params=ansatz.parameters,\n",
        "    estimator=estimator\n",
        ")"
      ],
      "metadata": {
        "id": "FXBXb-7NU2nH"
      },
      "execution_count": 26,
      "outputs": []
    },
    {
      "cell_type": "code",
      "source": [
        "# Step 6: Define optimizer and classifier\n",
        "optimizer = ADAM(maxiter=100, lr=0.01)\n",
        "vqc = NeuralNetworkClassifier(neural_network=qnn, optimizer=optimizer, one_hot=False)"
      ],
      "metadata": {
        "id": "psideTHtY3b8"
      },
      "execution_count": 27,
      "outputs": []
    },
    {
      "cell_type": "code",
      "source": [
        "# Step 7: Train and evaluate\n",
        "vqc.fit(X_train, y_train.to_numpy())\n",
        "y_pred = vqc.predict(X_test)"
      ],
      "metadata": {
        "id": "qbcnwqjoY3ZY"
      },
      "execution_count": 29,
      "outputs": []
    },
    {
      "cell_type": "code",
      "source": [
        "print(\"\\nClassification Report:\")\n",
        "print(classification_report(y_test, y_pred))"
      ],
      "metadata": {
        "colab": {
          "base_uri": "https://localhost:8080/"
        },
        "id": "ZFzWS1MnY3W3",
        "outputId": "8048d421-eaba-445b-f9e7-b65fee3f1603"
      },
      "execution_count": 32,
      "outputs": [
        {
          "output_type": "stream",
          "name": "stdout",
          "text": [
            "\n",
            "Classification Report:\n",
            "              precision    recall  f1-score   support\n",
            "\n",
            "        -1.0       0.00      0.00      0.00         0\n",
            "         0.0       0.00      0.00      0.00         7\n",
            "         1.0       0.84      0.50      0.63        32\n",
            "\n",
            "    accuracy                           0.41        39\n",
            "   macro avg       0.28      0.17      0.21        39\n",
            "weighted avg       0.69      0.41      0.51        39\n",
            "\n"
          ]
        }
      ]
    }
  ]
}