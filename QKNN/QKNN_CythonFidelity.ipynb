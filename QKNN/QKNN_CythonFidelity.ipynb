{
  "nbformat": 4,
  "nbformat_minor": 0,
  "metadata": {
    "colab": {
      "provenance": []
    },
    "kernelspec": {
      "name": "python3",
      "display_name": "Python 3"
    },
    "language_info": {
      "name": "python"
    }
  },
  "cells": [
    {
      "cell_type": "code",
      "execution_count": 17,
      "metadata": {
        "colab": {
          "base_uri": "https://localhost:8080/"
        },
        "id": "r0gEm-BNPtGd",
        "outputId": "8c57754c-4eb9-4135-a02c-5f62592a336e"
      },
      "outputs": [
        {
          "output_type": "stream",
          "name": "stdout",
          "text": [
            "Overwriting cython_fidelity.pyx\n"
          ]
        }
      ],
      "source": [
        "%%writefile cython_fidelity.pyx\n",
        "import numpy as np\n",
        "def cython_fidelity(double[:] x, double[:] y):\n",
        "  cdef int n = x.shape[0]\n",
        "  cdef int n2 = x.shape[0] // 2\n",
        "  cdef double res1 = 0\n",
        "  cdef double res2 = 0\n",
        "  for i in range(n2):\n",
        "    res1 += (x[i] * y[i]) + (x[n2 + i] * y[n2 + i])\n",
        "    res2 += (x[n2 + i] * y[i]) - (x[i] * y[n2 + i])\n",
        "  return 1 - (res1 * res1) - (res2 * res2)"
      ]
    },
    {
      "cell_type": "code",
      "source": [
        "%%writefile setup.py\n",
        "from setuptools import setup\n",
        "from Cython.Build import cythonize\n",
        "import numpy\n",
        "\n",
        "setup(\n",
        "    ext_modules = cythonize(\"cython_fidelity.pyx\"),\n",
        "    include_dirs=[numpy.get_include()]\n",
        ")"
      ],
      "metadata": {
        "colab": {
          "base_uri": "https://localhost:8080/"
        },
        "id": "d_SLL8NYP-uG",
        "outputId": "2507cdec-4837-4511-ef6f-22ab183a2a5e"
      },
      "execution_count": 18,
      "outputs": [
        {
          "output_type": "stream",
          "name": "stdout",
          "text": [
            "Overwriting setup.py\n"
          ]
        }
      ]
    },
    {
      "cell_type": "code",
      "source": [
        "!python setup.py build_ext --inplace"
      ],
      "metadata": {
        "colab": {
          "base_uri": "https://localhost:8080/"
        },
        "id": "BU-SJGsaP-qu",
        "outputId": "9b4c0fdc-894d-47de-8ee9-19ac5b9e150f"
      },
      "execution_count": 19,
      "outputs": [
        {
          "output_type": "stream",
          "name": "stdout",
          "text": [
            "Compiling cython_fidelity.pyx because it changed.\n",
            "[1/1] Cythonizing cython_fidelity.pyx\n",
            "/usr/local/lib/python3.11/dist-packages/Cython/Compiler/Main.py:381: FutureWarning: Cython directive 'language_level' not set, using '3str' for now (Py3). This has changed from earlier releases! File: /content/cython_fidelity.pyx\n",
            "  tree = Parsing.p_module(s, pxd, full_module_name)\n",
            "performance hint: cython_fidelity.pyx:8:15: Index should be typed for more efficient access\n",
            "performance hint: cython_fidelity.pyx:8:22: Index should be typed for more efficient access\n",
            "performance hint: cython_fidelity.pyx:8:34: Index should be typed for more efficient access\n",
            "performance hint: cython_fidelity.pyx:8:46: Index should be typed for more efficient access\n",
            "performance hint: cython_fidelity.pyx:9:18: Index should be typed for more efficient access\n",
            "performance hint: cython_fidelity.pyx:9:27: Index should be typed for more efficient access\n",
            "performance hint: cython_fidelity.pyx:9:36: Index should be typed for more efficient access\n",
            "performance hint: cython_fidelity.pyx:9:46: Index should be typed for more efficient access\n",
            "running build_ext\n",
            "building 'cython_fidelity' extension\n",
            "x86_64-linux-gnu-gcc -Wsign-compare -DNDEBUG -g -fwrapv -O2 -Wall -g -fstack-protector-strong -Wformat -Werror=format-security -g -fwrapv -O2 -fPIC -I/usr/local/lib/python3.11/dist-packages/numpy/_core/include -I/usr/include/python3.11 -c cython_fidelity.c -o build/temp.linux-x86_64-cpython-311/cython_fidelity.o\n",
            "x86_64-linux-gnu-gcc -shared -Wl,-O1 -Wl,-Bsymbolic-functions -Wl,-Bsymbolic-functions -g -fwrapv -O2 build/temp.linux-x86_64-cpython-311/cython_fidelity.o -L/usr/lib/x86_64-linux-gnu -o build/lib.linux-x86_64-cpython-311/cython_fidelity.cpython-311-x86_64-linux-gnu.so\n",
            "copying build/lib.linux-x86_64-cpython-311/cython_fidelity.cpython-311-x86_64-linux-gnu.so -> \n"
          ]
        }
      ]
    },
    {
      "cell_type": "code",
      "source": [
        "import numpy as np\n",
        "import math\n",
        "import random\n",
        "from sklearn.metrics import accuracy_score\n",
        "from sklearn.metrics import confusion_matrix\n",
        "from sklearn.neighbors import KNeighborsClassifier\n",
        "from cython_fidelity import cython_fidelity"
      ],
      "metadata": {
        "id": "PH5W3aMZP-oV"
      },
      "execution_count": 20,
      "outputs": []
    },
    {
      "cell_type": "markdown",
      "source": [
        "### Functions"
      ],
      "metadata": {
        "id": "OapkI76gQdYb"
      }
    },
    {
      "cell_type": "code",
      "source": [
        "#Return a single qubit rotation matrix\n",
        "\n",
        "# 1. Theta: Angle of rotation\n",
        "\n",
        "def RotMatCreate(Theta):\n",
        "\n",
        "  return(np.matrix([[math.cos(Theta), (-1 * math.sin(Theta))], [math.sin(Theta), math.cos(Theta)]]))"
      ],
      "metadata": {
        "id": "sISvlkocP-lx"
      },
      "execution_count": 21,
      "outputs": []
    },
    {
      "cell_type": "code",
      "source": [
        "#Return matrix that rotates about the z axis in Bloch sphere\n",
        "\n",
        "# 1. Theta: Angle of rotation\n",
        "\n",
        "def ZRot(Theta):\n",
        "\n",
        "  return(np.matrix([[math.cos(Theta/2) - (1j * math.sin(Theta/2)), 0],[0, math.cos(Theta/2) + (1j * math.sin(Theta/2))]]))\n"
      ],
      "metadata": {
        "id": "5PN8cdEFP-jY"
      },
      "execution_count": 22,
      "outputs": []
    },
    {
      "cell_type": "code",
      "source": [
        "# This function generates separable pure states.\n",
        "\n",
        "# 1. QubitNo: Number of qubits\n",
        "\n",
        "def GenSepState(QubitNo):\n",
        "\n",
        "  FinalState = np.matrix([[1]])\n",
        "\n",
        "  for i in range(QubitNo):\n",
        "    FinalState = np.kron(FinalState,(2*np.random.random([2,1])-1 + 2j*np.random.random([2,1])-1))\n",
        "\n",
        "  FinalState = FinalState/np.linalg.norm(FinalState)\n",
        "  return FinalState"
      ],
      "metadata": {
        "id": "l-x98oB1P-g9"
      },
      "execution_count": 23,
      "outputs": []
    },
    {
      "cell_type": "code",
      "source": [
        "# This function generates entangled pure states.\n",
        "\n",
        "# 1. QubitNo: Number of qubits.\n",
        "# 2. IsMaxEnt: Enter 1 if the state should be maximally entangled.\n",
        "\n",
        "def GenEntState(QubitNo, IsMaxEnt):\n",
        "\n",
        "  if IsMaxEnt == 1:\n",
        "\n",
        "    FinalState = np.zeros([2**QubitNo, 1])\n",
        "    FinalState[0,0] = 1\n",
        "    FinalState[-1,0] = 1\n",
        "\n",
        "    RotMat = np.matrix([[1]])\n",
        "    Thetas = (2*math.pi) * np.random.random(QubitNo)\n",
        "    Phis = (math.pi) * np.random.random(QubitNo)\n",
        "\n",
        "    Ry = [RotMatCreate(x/2) for x in Thetas]\n",
        "    Rz = [ZRot(y) for y in Phis]\n",
        "    MatY = np.matrix([[1]])\n",
        "    MatZ = np.matrix([[1]])\n",
        "\n",
        "    for i in range(QubitNo):\n",
        "      MatY = np.kron(MatY, Ry[i])\n",
        "      MatZ = np.kron(MatZ, Rz[i])\n",
        "\n",
        "    FinalState = np.matmul(MatZ,np.matmul(MatY,FinalState))\n",
        "\n",
        "  else:\n",
        "\n",
        "    Re = (2 * np.random.random([2**QubitNo,1])) - 1\n",
        "    Im = (2 * np.random.random([2**QubitNo,1])) - 1\n",
        "    FinalState = Re + 1j*Im\n",
        "\n",
        "\n",
        "  FinalState = FinalState/np.linalg.norm(FinalState)\n",
        "  return(FinalState)"
      ],
      "metadata": {
        "id": "h2FuDaCbP-ej"
      },
      "execution_count": 24,
      "outputs": []
    },
    {
      "cell_type": "code",
      "source": [
        "#Generate NSep separable states\n",
        "\n",
        "# 1. NSep: Number of separable states to be generated.\n",
        "# 2. QubitNo: Number of qubits\n",
        "# 3. Label: The label attached to the states for classification purposes.\n",
        "\n",
        "def GenSepData(NSep, QubitNo, Label):\n",
        "  SepData = np.zeros([NSep, 2**QubitNo]) + 1j*np.zeros([NSep, 2**QubitNo])\n",
        "  for i in range(NSep):\n",
        "    temp = GenSepState(QubitNo)\n",
        "    SepData[i,:] = temp.T\n",
        "  SepData = np.concatenate([SepData, Label*np.ones((NSep,1))], axis=1)\n",
        "  return SepData"
      ],
      "metadata": {
        "id": "pA-NRyaFP-cR"
      },
      "execution_count": 25,
      "outputs": []
    },
    {
      "cell_type": "code",
      "source": [
        "#Generate 2 entangled states among 3 qubits.\n",
        "\n",
        "# 1. QubitsToEntangle: 12 to entangle first 2 qubits\n",
        "#                      23 to entangle last 2 qubits\n",
        "#                      13 to entangle first and last qubits\n",
        "\n",
        "def GenEntState2(QubitsToEntangle):\n",
        "  if QubitsToEntangle == 12:\n",
        "    return np.kron(GenEntState(2, 0), GenSepState(1)).T\n",
        "\n",
        "  if QubitsToEntangle == 23:\n",
        "    return np.kron(GenSepState(1), GenEntState(2, 0)).T\n",
        "\n",
        "  if QubitsToEntangle == 13:\n",
        "    temp = np.kron(GenSepState(1), GenEntState(2, 0))\n",
        "    temp = np.reshape(np.array(temp.T), (2,2,2))\n",
        "    temp = np.ndarray.transpose(temp, [1,0,2])\n",
        "    temp = np.matrix(np.reshape(temp, (1,8)))\n",
        "    return temp"
      ],
      "metadata": {
        "id": "-KIG6-DrP-Zw"
      },
      "execution_count": 26,
      "outputs": []
    },
    {
      "cell_type": "code",
      "source": [
        "# Generate and return NEnt number of entangled states.\n",
        "# These states would be fully entangled, that is, no bipartition of the qubits would result in two separable states.\n",
        "\n",
        "# 1. NEnt: Number of states to be generated.\n",
        "# 2. QubitNo: Number of qubits.\n",
        "# 3. IsMaxEnt: Enter 1 if the states should be maximally entangled.\n",
        "# 4. Label: The label attached to the states for classification purposes.\n",
        "\n",
        "def GenEntData(NEnt, QubitNo, IsMaxEnt, Label):\n",
        "  EntData = np.zeros([NEnt, 2**QubitNo]) + 1j*np.zeros([NEnt, 2**QubitNo])\n",
        "\n",
        "  for i in range(NEnt):\n",
        "    temp = GenEntState(QubitNo, IsMaxEnt)\n",
        "    EntData[i,:] = temp.T\n",
        "  EntData = np.concatenate([EntData, Label*np.ones((NEnt,1))], axis=1)\n",
        "  return EntData"
      ],
      "metadata": {
        "id": "nhJGDCfySYRg"
      },
      "execution_count": 27,
      "outputs": []
    },
    {
      "cell_type": "code",
      "source": [
        "# This function can generate a dataset of entangled states.\n",
        "\n",
        "# 1. N: Number of states to be generated.\n",
        "# 2. QubitsToEntangle: 12 to entangle first 2 qubits\n",
        "#                      23 to entangle last 2 qubits\n",
        "#                      13 to entangle first and last qubits\n",
        "# 3. Label: A label for the entangled states. This label helps while providing the data to the KNN model. It can be any integer.\n",
        "\n",
        "def GenMultiEntData(N, QubitsToEntangle, Label):\n",
        "  Data = np.zeros([N, 8]) + 1j*np.zeros([N, 8])\n",
        "  for i in range(N):\n",
        "    Data[i,:] = GenEntState2(QubitsToEntangle)\n",
        "  Data = np.concatenate([Data, Label*np.ones((N,1))], axis=1)\n",
        "  return Data"
      ],
      "metadata": {
        "id": "k1hwE3xeSYOG"
      },
      "execution_count": 28,
      "outputs": []
    },
    {
      "cell_type": "markdown",
      "source": [
        "### Classical KNN\n",
        "\n"
      ],
      "metadata": {
        "id": "vN93PJHnW6xs"
      }
    },
    {
      "cell_type": "code",
      "source": [
        "NSep = 100000\n",
        "NEnt = 100000\n",
        "n = 2\n",
        "\n",
        "DataSep = GenSepData(NSep, n, 0)\n",
        "Data12 = GenEntData(NEnt, n, 0, 1)\n",
        "Data = np.concatenate([DataSep, Data12], axis = 0)\n",
        "\n",
        "np.random.shuffle(Data)\n",
        "\n",
        "DataX = Data[:,:-1]\n",
        "DataY = Data[:,-1]\n",
        "proportion = 400\n",
        "DataSplitX = DataX\n",
        "DataSplitY = np.real(DataY)\n",
        "DataSplitX = np.concatenate([np.real(DataSplitX), np.imag(DataSplitX)], axis = 1)\n",
        "XTrain, YTrain, XTest, YTest = DataSplitX[:-int((NSep+NEnt)/proportion)], DataSplitY[:-int((NSep+NEnt)/proportion)], DataSplitX[-int((NSep+NEnt)/proportion):], DataSplitY[-int((NSep+NEnt)/proportion):]\n",
        "NeighComp = KNeighborsClassifier(n_neighbors=3, metric = cython_fidelity)\n",
        "NeighComp.fit(XTrain, YTrain)\n",
        "Ans = NeighComp.predict(XTest)\n",
        "print(\"Accuracy = \",accuracy_score(YTest, Ans))\n",
        "confusion_matrix(YTest, Ans)"
      ],
      "metadata": {
        "colab": {
          "base_uri": "https://localhost:8080/"
        },
        "id": "5-ghBItbSYLc",
        "outputId": "2951b051-873c-4746-c197-ef9424a6b224"
      },
      "execution_count": 29,
      "outputs": [
        {
          "output_type": "stream",
          "name": "stdout",
          "text": [
            "Accuracy =  0.982\n"
          ]
        },
        {
          "output_type": "execute_result",
          "data": {
            "text/plain": [
              "array([[246,   0],\n",
              "       [  9, 245]])"
            ]
          },
          "metadata": {},
          "execution_count": 29
        }
      ]
    },
    {
      "cell_type": "markdown",
      "source": [
        "#### 2 qubit with maximally entangled states"
      ],
      "metadata": {
        "id": "WZX1Sob7YNe-"
      }
    },
    {
      "cell_type": "code",
      "source": [
        "NSep = 100000\n",
        "NEnt = 100000\n",
        "n = 2\n",
        "\n",
        "DataSep = GenSepData(NSep, n, 0)\n",
        "Data12 = GenEntData(NEnt, n, 1, 1)\n",
        "Data = np.concatenate([DataSep, Data12], axis = 0)\n",
        "\n",
        "np.random.shuffle(Data)\n",
        "\n",
        "DataX = Data[:,:-1]\n",
        "DataY = Data[:,-1]\n",
        "proportion = 400\n",
        "DataSplitX = DataX\n",
        "DataSplitY = np.real(DataY)\n",
        "DataSplitX = np.concatenate([np.real(DataSplitX), np.imag(DataSplitX)], axis = 1)\n",
        "XTrain, YTrain, XTest, YTest = DataSplitX[:-int((NSep+NEnt)/proportion)], DataSplitY[:-int((NSep+NEnt)/proportion)], DataSplitX[-int((NSep+NEnt)/proportion):], DataSplitY[-int((NSep+NEnt)/proportion):]\n",
        "NeighComp = KNeighborsClassifier(n_neighbors=3, metric = cython_fidelity)\n",
        "NeighComp.fit(XTrain, YTrain)\n",
        "Ans = NeighComp.predict(XTest)\n",
        "print(\"Accuracy = \",accuracy_score(YTest, Ans))\n",
        "confusion_matrix(YTest, Ans)"
      ],
      "metadata": {
        "colab": {
          "base_uri": "https://localhost:8080/"
        },
        "id": "MBeL6QNvSYIb",
        "outputId": "767221a9-be3e-4b6d-d5a8-2b0c92314c4c"
      },
      "execution_count": 30,
      "outputs": [
        {
          "output_type": "stream",
          "name": "stdout",
          "text": [
            "Accuracy =  1.0\n"
          ]
        },
        {
          "output_type": "execute_result",
          "data": {
            "text/plain": [
              "array([[241,   0],\n",
              "       [  0, 259]])"
            ]
          },
          "metadata": {},
          "execution_count": 30
        }
      ]
    },
    {
      "cell_type": "markdown",
      "source": [
        "#### 3 qubit"
      ],
      "metadata": {
        "id": "durV2qarYXOy"
      }
    },
    {
      "cell_type": "code",
      "source": [
        "N = 100000\n",
        "DataSep = GenSepData(N, 3, 0)\n",
        "Data12 = GenMultiEntData(N, 12, 12)\n",
        "Data23 = GenMultiEntData(N, 23, 23)\n",
        "Data13 = GenMultiEntData(N, 13, 13)\n",
        "Data123 = GenEntData(N, 3, 0, 123)\n",
        "\n",
        "Data = np.concatenate([DataSep, Data12, Data23, Data13, Data123], axis = 0)\n",
        "np.random.shuffle(Data)\n",
        "\n",
        "DataX = Data[:,:-1]\n",
        "DataY = Data[:,-1]\n",
        "proportion = 1000\n",
        "DataSplitX = DataX\n",
        "DataSplitY = np.real(DataY)\n",
        "DataSplitX = np.concatenate([np.real(DataSplitX), np.imag(DataSplitX)], axis = 1)\n",
        "XTrain, YTrain, XTest, YTest = DataSplitX[:-int((N * 5)/proportion)], DataSplitY[:-int((N * 5)/proportion)], DataSplitX[-int((N * 5)/proportion):], DataSplitY[-int((N * 5)/proportion):]\n",
        "NeighComp = KNeighborsClassifier(n_neighbors=10, metric = cython_fidelity)\n",
        "NeighComp.fit(XTrain, YTrain)\n",
        "Ans = NeighComp.predict(XTest)\n",
        "print(\"Accuracy = \",accuracy_score(YTest, Ans))\n",
        "confusion_matrix(YTest, Ans)"
      ],
      "metadata": {
        "colab": {
          "base_uri": "https://localhost:8080/"
        },
        "id": "vMSImMwLSYFa",
        "outputId": "dcbcb97a-2f0a-4f6d-f108-a726af86dfc1"
      },
      "execution_count": 31,
      "outputs": [
        {
          "output_type": "stream",
          "name": "stdout",
          "text": [
            "Accuracy =  0.902\n"
          ]
        },
        {
          "output_type": "execute_result",
          "data": {
            "text/plain": [
              "array([[102,   1,   0,   0,   0],\n",
              "       [  7, 104,   1,   1,   0],\n",
              "       [  7,   0,  86,   1,   0],\n",
              "       [  5,   2,   1,  93,   0],\n",
              "       [  0,   8,  10,   5,  66]])"
            ]
          },
          "metadata": {},
          "execution_count": 31
        }
      ]
    }
  ]
}