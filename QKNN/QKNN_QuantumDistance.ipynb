{
  "nbformat": 4,
  "nbformat_minor": 0,
  "metadata": {
    "colab": {
      "provenance": []
    },
    "kernelspec": {
      "name": "python3",
      "display_name": "Python 3"
    },
    "language_info": {
      "name": "python"
    }
  },
  "cells": [
    {
      "cell_type": "code",
      "source": [
        "!pip install qiskit qiskit_aer"
      ],
      "metadata": {
        "colab": {
          "base_uri": "https://localhost:8080/"
        },
        "id": "RPc_bjWWigq_",
        "outputId": "71aa9e66-6a74-46a0-dfbe-baf2485206ce"
      },
      "execution_count": 2,
      "outputs": [
        {
          "output_type": "stream",
          "name": "stdout",
          "text": [
            "Collecting qiskit\n",
            "  Downloading qiskit-2.0.0-cp39-abi3-manylinux_2_17_x86_64.manylinux2014_x86_64.whl.metadata (12 kB)\n",
            "Collecting qiskit_aer\n",
            "  Downloading qiskit_aer-0.17.0-cp311-cp311-manylinux_2_17_x86_64.manylinux2014_x86_64.whl.metadata (8.2 kB)\n",
            "Collecting rustworkx>=0.15.0 (from qiskit)\n",
            "  Downloading rustworkx-0.16.0-cp39-abi3-manylinux_2_17_x86_64.manylinux2014_x86_64.whl.metadata (10 kB)\n",
            "Requirement already satisfied: numpy<3,>=1.17 in /usr/local/lib/python3.11/dist-packages (from qiskit) (2.0.2)\n",
            "Requirement already satisfied: scipy>=1.5 in /usr/local/lib/python3.11/dist-packages (from qiskit) (1.14.1)\n",
            "Requirement already satisfied: sympy>=1.3 in /usr/local/lib/python3.11/dist-packages (from qiskit) (1.13.1)\n",
            "Collecting dill>=0.3 (from qiskit)\n",
            "  Downloading dill-0.4.0-py3-none-any.whl.metadata (10 kB)\n",
            "Requirement already satisfied: python-dateutil>=2.8.0 in /usr/local/lib/python3.11/dist-packages (from qiskit) (2.8.2)\n",
            "Collecting stevedore>=3.0.0 (from qiskit)\n",
            "  Downloading stevedore-5.4.1-py3-none-any.whl.metadata (2.3 kB)\n",
            "Requirement already satisfied: typing-extensions in /usr/local/lib/python3.11/dist-packages (from qiskit) (4.13.2)\n",
            "Collecting symengine<0.14,>=0.11 (from qiskit)\n",
            "  Downloading symengine-0.13.0-cp311-cp311-manylinux_2_17_x86_64.manylinux2014_x86_64.whl.metadata (1.2 kB)\n",
            "Requirement already satisfied: psutil>=5 in /usr/local/lib/python3.11/dist-packages (from qiskit_aer) (5.9.5)\n",
            "Requirement already satisfied: six>=1.5 in /usr/local/lib/python3.11/dist-packages (from python-dateutil>=2.8.0->qiskit) (1.17.0)\n",
            "Collecting pbr>=2.0.0 (from stevedore>=3.0.0->qiskit)\n",
            "  Downloading pbr-6.1.1-py2.py3-none-any.whl.metadata (3.4 kB)\n",
            "Requirement already satisfied: mpmath<1.4,>=1.1.0 in /usr/local/lib/python3.11/dist-packages (from sympy>=1.3->qiskit) (1.3.0)\n",
            "Requirement already satisfied: setuptools in /usr/local/lib/python3.11/dist-packages (from pbr>=2.0.0->stevedore>=3.0.0->qiskit) (75.2.0)\n",
            "Downloading qiskit-2.0.0-cp39-abi3-manylinux_2_17_x86_64.manylinux2014_x86_64.whl (6.5 MB)\n",
            "\u001b[2K   \u001b[90m━━━━━━━━━━━━━━━━━━━━━━━━━━━━━━━━━━━━━━━━\u001b[0m \u001b[32m6.5/6.5 MB\u001b[0m \u001b[31m58.9 MB/s\u001b[0m eta \u001b[36m0:00:00\u001b[0m\n",
            "\u001b[?25hDownloading qiskit_aer-0.17.0-cp311-cp311-manylinux_2_17_x86_64.manylinux2014_x86_64.whl (12.4 MB)\n",
            "\u001b[2K   \u001b[90m━━━━━━━━━━━━━━━━━━━━━━━━━━━━━━━━━━━━━━━━\u001b[0m \u001b[32m12.4/12.4 MB\u001b[0m \u001b[31m71.9 MB/s\u001b[0m eta \u001b[36m0:00:00\u001b[0m\n",
            "\u001b[?25hDownloading dill-0.4.0-py3-none-any.whl (119 kB)\n",
            "\u001b[2K   \u001b[90m━━━━━━━━━━━━━━━━━━━━━━━━━━━━━━━━━━━━━━━━\u001b[0m \u001b[32m119.7/119.7 kB\u001b[0m \u001b[31m10.1 MB/s\u001b[0m eta \u001b[36m0:00:00\u001b[0m\n",
            "\u001b[?25hDownloading rustworkx-0.16.0-cp39-abi3-manylinux_2_17_x86_64.manylinux2014_x86_64.whl (2.1 MB)\n",
            "\u001b[2K   \u001b[90m━━━━━━━━━━━━━━━━━━━━━━━━━━━━━━━━━━━━━━━━\u001b[0m \u001b[32m2.1/2.1 MB\u001b[0m \u001b[31m60.4 MB/s\u001b[0m eta \u001b[36m0:00:00\u001b[0m\n",
            "\u001b[?25hDownloading stevedore-5.4.1-py3-none-any.whl (49 kB)\n",
            "\u001b[2K   \u001b[90m━━━━━━━━━━━━━━━━━━━━━━━━━━━━━━━━━━━━━━━━\u001b[0m \u001b[32m49.5/49.5 kB\u001b[0m \u001b[31m4.2 MB/s\u001b[0m eta \u001b[36m0:00:00\u001b[0m\n",
            "\u001b[?25hDownloading symengine-0.13.0-cp311-cp311-manylinux_2_17_x86_64.manylinux2014_x86_64.whl (49.7 MB)\n",
            "\u001b[2K   \u001b[90m━━━━━━━━━━━━━━━━━━━━━━━━━━━━━━━━━━━━━━━━\u001b[0m \u001b[32m49.7/49.7 MB\u001b[0m \u001b[31m17.4 MB/s\u001b[0m eta \u001b[36m0:00:00\u001b[0m\n",
            "\u001b[?25hDownloading pbr-6.1.1-py2.py3-none-any.whl (108 kB)\n",
            "\u001b[2K   \u001b[90m━━━━━━━━━━━━━━━━━━━━━━━━━━━━━━━━━━━━━━━━\u001b[0m \u001b[32m109.0/109.0 kB\u001b[0m \u001b[31m7.8 MB/s\u001b[0m eta \u001b[36m0:00:00\u001b[0m\n",
            "\u001b[?25hInstalling collected packages: symengine, rustworkx, pbr, dill, stevedore, qiskit, qiskit_aer\n",
            "Successfully installed dill-0.4.0 pbr-6.1.1 qiskit-2.0.0 qiskit_aer-0.17.0 rustworkx-0.16.0 stevedore-5.4.1 symengine-0.13.0\n"
          ]
        }
      ]
    },
    {
      "cell_type": "code",
      "execution_count": 3,
      "metadata": {
        "colab": {
          "base_uri": "https://localhost:8080/"
        },
        "id": "wZyT4x7LiXT9",
        "outputId": "c180e2cd-f0de-48ca-954b-c0990fbfbdc2"
      },
      "outputs": [
        {
          "output_type": "stream",
          "name": "stdout",
          "text": [
            "Classical Machine Learning:\n",
            "P(1) =  0.5244421365167681     P(0) =  0.475557863483232\n",
            "\n"
          ]
        }
      ],
      "source": [
        "import math\n",
        "from qiskit import QuantumCircuit, transpile\n",
        "from qiskit_aer import Aer\n",
        "\n",
        "trainingData = [[0.9798, 0.2, 1],[0.3, 0.954, 0]]\n",
        "queryData = [0.85, 0.5268]\n",
        "\n",
        "# Normalize trainingData\n",
        "vecLen = math.sqrt(trainingData[0][0]**2 + trainingData[0][1]**2);\n",
        "trainingData[0][0] = trainingData[0][0]/vecLen\n",
        "trainingData[0][1] = trainingData[0][1]/vecLen\n",
        "vecLen = math.sqrt(trainingData[1][0]**2 + trainingData[1][1]**2);\n",
        "trainingData[1][0] = trainingData[1][0]/vecLen\n",
        "trainingData[1][1] = trainingData[1][1]/vecLen\n",
        "\n",
        "# Normalize queryData\n",
        "vecLen = math.sqrt(queryData[0]**2 + queryData[1]**2);\n",
        "queryData[0] = queryData[0]/vecLen\n",
        "queryData[1] = queryData[1]/vecLen\n",
        "\n",
        "# Compute Euclidean Distances Squared\n",
        "euclideanDistanceSquared = [0,0]\n",
        "euclideanDistanceSquared[0] = (queryData[0]-trainingData[0][0])**2 + (queryData[1]-trainingData[0][1])**2\n",
        "euclideanDistanceSquared[1] = (queryData[0]-trainingData[1][0])**2 + (queryData[1]-trainingData[1][1])**2\n",
        "\n",
        "# Compute Weights\n",
        "weights = [0,0]\n",
        "weights[0] = 1 - 0.25*euclideanDistanceSquared[0]\n",
        "weights[1] = 1 - 0.25*euclideanDistanceSquared[1]\n",
        "\n",
        "# Normalize Weights\n",
        "weightSum = (weights[0] + weights[1])\n",
        "weights[0] = weights[0] / weightSum\n",
        "weights[1] = weights[1] / weightSum\n",
        "\n",
        "print(\"Classical Machine Learning:\")\n",
        "print(\"P(1) = \",weights[0],\"    P(0) = \",weights[1])\n",
        "print(\"\")"
      ]
    },
    {
      "cell_type": "code",
      "source": [
        "simulator = Aer.get_backend(\"aer_simulator\")\n",
        "\n",
        "circuit = QuantumCircuit(4,2)\n",
        "initial_state = [0,trainingData[0][0]/2,0,trainingData[0][1]/2,trainingData[1][0]/2,0,trainingData[1][1]/2,0,0,queryData[0]/2,0,queryData[1]/2,queryData[0]/2, 0,queryData[1]/2,0]\n",
        "circuit.initialize(initial_state)\n",
        "circuit.h(3)\n",
        "circuit.save_statevector(label='v1')\n",
        "circuit.measure(3,0)\n",
        "circuit.save_statevector(label='v2')\n",
        "circuit.measure(0,1)\n",
        "\n",
        "# compile the circuit to simulator\n",
        "compiled_circuit = transpile(circuit, simulator)\n",
        "# Execute the circuit on the simulator. 1000 times.\n",
        "numerator = 0\n",
        "denominator = 0\n",
        "for i in range(0,10000):\n",
        "    job = simulator.run(compiled_circuit, shots=1)\n",
        "    # Get results\n",
        "    result = job.result()\n",
        "    # Get counts from results\n",
        "    counts = result.get_counts(compiled_circuit)\n",
        "    if(\"00\" in counts or \"10\" in counts):\n",
        "        stateAfterMeasuringQ3 = result.data(0)['v2']\n",
        "        denominator += 1\n",
        "        if(\"10\" in counts):\n",
        "            numerator += 1\n",
        "\n",
        "print(\"Quantum Machine Learning:\")\n",
        "print(\"P(1) = \",numerator/denominator,\"    P(0) = \",(denominator-numerator)/denominator)\n",
        "print(\"Intermediate State Vectors:\")\n",
        "print(\"After Hadamard \",result.data(0)['v1'])\n",
        "print(\"After Measuring Qubit3 \",stateAfterMeasuringQ3)\n",
        "circuit.draw(output = \"text\")"
      ],
      "metadata": {
        "colab": {
          "base_uri": "https://localhost:8080/",
          "height": 910
        },
        "id": "-MDEL_ISiYHA",
        "outputId": "8fb0f6ab-acaf-4379-831e-d3d79698e628"
      },
      "execution_count": 6,
      "outputs": [
        {
          "output_type": "stream",
          "name": "stdout",
          "text": [
            "Quantum Machine Learning:\n",
            "P(1) =  0.5304884652875556     P(0) =  0.4695115347124445\n",
            "Intermediate State Vectors:\n",
            "After Hadamard  Statevector([ 0.        +0.00000000e+00j,  0.64692786-3.68027968e-17j,\n",
            "              0.        +0.00000000e+00j,  0.25696062-2.28090745e-17j,\n",
            "              0.40657751-3.68027968e-17j,  0.        +0.00000000e+00j,\n",
            "              0.5235206 -2.28090745e-17j,  0.        +0.00000000e+00j,\n",
            "              0.        +0.00000000e+00j,  0.04589258+3.68027968e-17j,\n",
            "              0.        +0.00000000e+00j, -0.11553983+2.28090745e-17j,\n",
            "             -0.19445778+3.68027968e-17j,  0.        +0.00000000e+00j,\n",
            "              0.15102015+2.28090745e-17j,  0.        +0.00000000e+00j],\n",
            "            dims=(2, 2, 2, 2))\n",
            "After Measuring Qubit3  Statevector([ 0.        +0.00000000e+00j,  0.67303531-3.82880118e-17j,\n",
            "              0.        +0.00000000e+00j,  0.26733053-2.37295584e-17j,\n",
            "              0.42298536-3.82880118e-17j,  0.        +0.00000000e+00j,\n",
            "              0.54464782-2.37295584e-17j,  0.        +0.00000000e+00j,\n",
            "              0.        +0.00000000e+00j,  0.        +0.00000000e+00j,\n",
            "              0.        +0.00000000e+00j, -0.        +0.00000000e+00j,\n",
            "             -0.        +0.00000000e+00j,  0.        +0.00000000e+00j,\n",
            "              0.        +0.00000000e+00j,  0.        +0.00000000e+00j],\n",
            "            dims=(2, 2, 2, 2))\n"
          ]
        },
        {
          "output_type": "execute_result",
          "data": {
            "text/plain": [
              "     »\n",
              "q_0: »\n",
              "     »\n",
              "q_1: »\n",
              "     »\n",
              "q_2: »\n",
              "     »\n",
              "q_3: »\n",
              "     »\n",
              "c: 2/»\n",
              "     »\n",
              "«     ┌───────────────────────────────────────────────────────────────────────────────────┐»\n",
              "«q_0: ┤0                                                                                  ├»\n",
              "«     │                                                                                   │»\n",
              "«q_1: ┤1                                                                                  ├»\n",
              "«     │  Initialize(0,0.4899,0,0.1,0.14999,0,0.47697,0,0,0.425,0,0.2634,0.425,0,0.2634,0) │»\n",
              "«q_2: ┤2                                                                                  ├»\n",
              "«     │                                                                                   │»\n",
              "«q_3: ┤3                                                                                  ├»\n",
              "«     └───────────────────────────────────────────────────────────────────────────────────┘»\n",
              "«c: 2/═════════════════════════════════════════════════════════════════════════════════════»\n",
              "«                                                                                          »\n",
              "«           v1     v2 ┌─┐\n",
              "«q_0: ──────░──────░──┤M├\n",
              "«           ░      ░  └╥┘\n",
              "«q_1: ──────░──────░───╫─\n",
              "«           ░      ░   ║ \n",
              "«q_2: ──────░──────░───╫─\n",
              "«     ┌───┐ ░  ┌─┐ ░   ║ \n",
              "«q_3: ┤ H ├─░──┤M├─░───╫─\n",
              "«     └───┘ ░  └╥┘ ░   ║ \n",
              "«c: 2/══════════╩══════╩═\n",
              "«               0      1 "
            ],
            "text/html": [
              "<pre style=\"word-wrap: normal;white-space: pre;background: #fff0;line-height: 1.1;font-family: &quot;Courier New&quot;,Courier,monospace\">     »\n",
              "q_0: »\n",
              "     »\n",
              "q_1: »\n",
              "     »\n",
              "q_2: »\n",
              "     »\n",
              "q_3: »\n",
              "     »\n",
              "c: 2/»\n",
              "     »\n",
              "«     ┌───────────────────────────────────────────────────────────────────────────────────┐»\n",
              "«q_0: ┤0                                                                                  ├»\n",
              "«     │                                                                                   │»\n",
              "«q_1: ┤1                                                                                  ├»\n",
              "«     │  Initialize(0,0.4899,0,0.1,0.14999,0,0.47697,0,0,0.425,0,0.2634,0.425,0,0.2634,0) │»\n",
              "«q_2: ┤2                                                                                  ├»\n",
              "«     │                                                                                   │»\n",
              "«q_3: ┤3                                                                                  ├»\n",
              "«     └───────────────────────────────────────────────────────────────────────────────────┘»\n",
              "«c: 2/═════════════════════════════════════════════════════════════════════════════════════»\n",
              "«                                                                                          »\n",
              "«           v1     v2 ┌─┐\n",
              "«q_0: ──────░──────░──┤M├\n",
              "«           ░      ░  └╥┘\n",
              "«q_1: ──────░──────░───╫─\n",
              "«           ░      ░   ║ \n",
              "«q_2: ──────░──────░───╫─\n",
              "«     ┌───┐ ░  ┌─┐ ░   ║ \n",
              "«q_3: ┤ H ├─░──┤M├─░───╫─\n",
              "«     └───┘ ░  └╥┘ ░   ║ \n",
              "«c: 2/══════════╩══════╩═\n",
              "«               0      1 </pre>"
            ]
          },
          "metadata": {},
          "execution_count": 6
        }
      ]
    }
  ]
}