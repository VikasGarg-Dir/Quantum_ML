{
  "cells": [
    {
      "cell_type": "markdown",
      "id": "f0bb6141",
      "metadata": {
        "papermill": {
          "duration": 0.009977,
          "end_time": "2023-04-06T09:34:37.928975",
          "exception": false,
          "start_time": "2023-04-06T09:34:37.918998",
          "status": "completed"
        },
        "tags": [],
        "id": "f0bb6141"
      },
      "source": [
        "# **Quantum Kernel Machine Learning**\n",
        "\n",
        "### Overview\n",
        "\n",
        "The general task of machine learning is to find and study patterns in data. For many datasets, the datapoints are better understood in a higher dimensional feature space. This is the fundamental principle behind a series of machine learning algorithms known as *kernel methods*.\n",
        "\n",
        "\n",
        "The content is structured as follows:\n",
        "\n",
        "1. [Introduction](#intro)\n",
        "2. [Classification](#class)    \n",
        "3. [Clustering](#clustering)\n",
        "4. [Conclusion](#conclusion)"
      ]
    },
    {
      "cell_type": "markdown",
      "id": "e104c80b",
      "metadata": {
        "papermill": {
          "duration": 0.007875,
          "end_time": "2023-04-06T09:34:37.945547",
          "exception": false,
          "start_time": "2023-04-06T09:34:37.937672",
          "status": "completed"
        },
        "tags": [],
        "id": "e104c80b"
      },
      "source": [
        "<a id='intro'></a>\n",
        "## 1. Introduction\n",
        "\n",
        "### 1.1. Kernel Methods for Machine Learning\n",
        "\n",
        "Kernel methods are a collection of pattern analysis algorithms that use kernel functions to operate in a high-dimensional feature space. The best-known application of kernel methods is in **Support Vector Machines (SVMs)**, supervised learning algorithms commonly used for classification tasks. The main goal of SVMs is to find decision boundaries to separate a given set of data points into classes. When these data spaces are not linearly separable, SVMs can benefit from the use of kernels to find these boundaries.\n",
        "\n",
        "Formally, decision boundaries are hyperplanes in a high dimensional space. The kernel function implicitly maps input data into this higher dimensional space, where it can be easier to solve the initial problem. In other words, kernels may allow data distributions that were originally non-linearly separable to become a linearly separable problem. This is an effect known as the \"kernel trick\".\n",
        "\n",
        "There are use-cases for kernel-based unsupervised algorithms too, for example, in the context of clustering. **Spectral Clustering** is a technique where data points are treated as nodes of a graph, and the clustering task is viewed as a graph partitioning problem where nodes are mapped to a space where they can be easily segregated to form clusters.\n",
        "\n",
        "### 1.2. Kernel Functions\n",
        "\n",
        "Mathematically, kernel functions follow:\n",
        "\n",
        "$k(\\vec{x}_i, \\vec{x}_j) = \\langle f(\\vec{x}_i), f(\\vec{x}_j) \\rangle$\n",
        "\n",
        "where\n",
        "* $k$ is the kernel function\n",
        "* $\\vec{x}_i, \\vec{x}_j$ are $n$ dimensional inputs\n",
        "* $f$ is a map from $n$-dimension to $m$-dimension space and\n",
        "* $\\langle a,b \\rangle$ denotes the inner product\n",
        "\n",
        "When considering finite data, a kernel function can be represented as a matrix:\n",
        "\n",
        "$K_{ij} = k(\\vec{x}_i,\\vec{x}_j)$.\n",
        "\n",
        "### 1.3. Quantum Kernels\n",
        "\n",
        "The main idea behind quantum kernel machine learning is to leverage quantum feature maps to perform the kernel trick. In this case, the quantum kernel is created by mapping a classical feature vector $\\vec{x}$ to a Hilbert space using a quantum feature map $\\phi(\\vec{x})$. Mathematically:\n",
        "\n",
        "$K_{ij} = \\left| \\langle \\phi(\\vec{x}_i)| \\phi(\\vec{x}_j) \\rangle \\right|^{2}$\n",
        "\n",
        "where\n",
        "* $K_{ij}$ is the kernel matrix\n",
        "* $\\vec{x}_i, \\vec{x}_j$ are $n$ dimensional inputs\n",
        "* $\\phi(\\vec{x})$ is the quantum feature map\n",
        "* $\\left| \\langle a|b \\rangle \\right|^{2}$ denotes the overlap of two quantum states $a$ and $b$\n",
        "\n",
        "Quantum kernels can be plugged into common classical kernel learning algorithms such as SVMs or clustering algorithms, as you will see in the examples below. They can also be leveraged in new quantum kernel methods like `QSVC` [class](https://qiskit.org/documentation/machine-learning/stubs/qiskit_machine_learning.algorithms.QSVC.html) provided by `qiskit-machine-learning`"
      ]
    },
    {
      "cell_type": "code",
      "source": [
        "!pip install qiskit==0.45.1 qiskit-machine-learning==0.6.0 qiskit-algorithms==0.2.0"
      ],
      "metadata": {
        "colab": {
          "base_uri": "https://localhost:8080/"
        },
        "collapsed": true,
        "id": "eyPrjUYh4I-0",
        "outputId": "6e66e0ec-e79d-4988-b48e-e322dc6b9dd8"
      },
      "id": "eyPrjUYh4I-0",
      "execution_count": 2,
      "outputs": [
        {
          "output_type": "stream",
          "name": "stdout",
          "text": [
            "Collecting qiskit==0.45.1\n",
            "  Downloading qiskit-0.45.1-py3-none-any.whl.metadata (12 kB)\n",
            "Collecting qiskit-machine-learning==0.6.0\n",
            "  Downloading qiskit_machine_learning-0.6.0-py3-none-any.whl.metadata (12 kB)\n",
            "Collecting qiskit-algorithms==0.2.0\n",
            "  Downloading qiskit_algorithms-0.2.0-py3-none-any.whl.metadata (4.1 kB)\n",
            "Collecting qiskit-terra==0.45.1 (from qiskit==0.45.1)\n",
            "  Downloading qiskit_terra-0.45.1-cp38-abi3-manylinux_2_17_x86_64.manylinux2014_x86_64.whl.metadata (12 kB)\n",
            "Requirement already satisfied: scipy>=1.4 in /usr/local/lib/python3.11/dist-packages (from qiskit-machine-learning==0.6.0) (1.13.1)\n",
            "Requirement already satisfied: numpy>=1.17 in /usr/local/lib/python3.11/dist-packages (from qiskit-machine-learning==0.6.0) (1.26.4)\n",
            "Requirement already satisfied: psutil>=5 in /usr/local/lib/python3.11/dist-packages (from qiskit-machine-learning==0.6.0) (5.9.5)\n",
            "Requirement already satisfied: scikit-learn>=0.20.0 in /usr/local/lib/python3.11/dist-packages (from qiskit-machine-learning==0.6.0) (1.6.1)\n",
            "Collecting fastdtw (from qiskit-machine-learning==0.6.0)\n",
            "  Downloading fastdtw-0.3.4.tar.gz (133 kB)\n",
            "\u001b[2K     \u001b[90m━━━━━━━━━━━━━━━━━━━━━━━━━━━━━━━━━━━━━━━━\u001b[0m \u001b[32m133.4/133.4 kB\u001b[0m \u001b[31m8.6 MB/s\u001b[0m eta \u001b[36m0:00:00\u001b[0m\n",
            "\u001b[?25h  Preparing metadata (setup.py) ... \u001b[?25l\u001b[?25hdone\n",
            "Requirement already satisfied: setuptools>=40.1.0 in /usr/local/lib/python3.11/dist-packages (from qiskit-machine-learning==0.6.0) (75.1.0)\n",
            "Collecting dill<0.3.6,>=0.3.4 (from qiskit-machine-learning==0.6.0)\n",
            "  Downloading dill-0.3.5.1-py2.py3-none-any.whl.metadata (9.7 kB)\n",
            "Collecting rustworkx>=0.13.0 (from qiskit-terra==0.45.1->qiskit==0.45.1)\n",
            "  Downloading rustworkx-0.16.0-cp39-abi3-manylinux_2_17_x86_64.manylinux2014_x86_64.whl.metadata (10 kB)\n",
            "Requirement already satisfied: ply>=3.10 in /usr/local/lib/python3.11/dist-packages (from qiskit-terra==0.45.1->qiskit==0.45.1) (3.11)\n",
            "Requirement already satisfied: sympy>=1.3 in /usr/local/lib/python3.11/dist-packages (from qiskit-terra==0.45.1->qiskit==0.45.1) (1.13.1)\n",
            "Requirement already satisfied: python-dateutil>=2.8.0 in /usr/local/lib/python3.11/dist-packages (from qiskit-terra==0.45.1->qiskit==0.45.1) (2.8.2)\n",
            "Collecting stevedore>=3.0.0 (from qiskit-terra==0.45.1->qiskit==0.45.1)\n",
            "  Downloading stevedore-5.4.1-py3-none-any.whl.metadata (2.3 kB)\n",
            "Collecting symengine!=0.10.0,>=0.9 (from qiskit-terra==0.45.1->qiskit==0.45.1)\n",
            "  Downloading symengine-0.14.1-cp311-cp311-manylinux_2_17_x86_64.manylinux2014_x86_64.whl.metadata (1.3 kB)\n",
            "Requirement already satisfied: joblib>=1.2.0 in /usr/local/lib/python3.11/dist-packages (from scikit-learn>=0.20.0->qiskit-machine-learning==0.6.0) (1.4.2)\n",
            "Requirement already satisfied: threadpoolctl>=3.1.0 in /usr/local/lib/python3.11/dist-packages (from scikit-learn>=0.20.0->qiskit-machine-learning==0.6.0) (3.5.0)\n",
            "Requirement already satisfied: six>=1.5 in /usr/local/lib/python3.11/dist-packages (from python-dateutil>=2.8.0->qiskit-terra==0.45.1->qiskit==0.45.1) (1.17.0)\n",
            "Collecting pbr>=2.0.0 (from stevedore>=3.0.0->qiskit-terra==0.45.1->qiskit==0.45.1)\n",
            "  Downloading pbr-6.1.1-py2.py3-none-any.whl.metadata (3.4 kB)\n",
            "Requirement already satisfied: mpmath<1.4,>=1.1.0 in /usr/local/lib/python3.11/dist-packages (from sympy>=1.3->qiskit-terra==0.45.1->qiskit==0.45.1) (1.3.0)\n",
            "Downloading qiskit-0.45.1-py3-none-any.whl (9.6 kB)\n",
            "Downloading qiskit_machine_learning-0.6.0-py3-none-any.whl (148 kB)\n",
            "\u001b[2K   \u001b[90m━━━━━━━━━━━━━━━━━━━━━━━━━━━━━━━━━━━━━━━━\u001b[0m \u001b[32m148.7/148.7 kB\u001b[0m \u001b[31m9.1 MB/s\u001b[0m eta \u001b[36m0:00:00\u001b[0m\n",
            "\u001b[?25hDownloading qiskit_algorithms-0.2.0-py3-none-any.whl (307 kB)\n",
            "\u001b[2K   \u001b[90m━━━━━━━━━━━━━━━━━━━━━━━━━━━━━━━━━━━━━━━━\u001b[0m \u001b[32m307.1/307.1 kB\u001b[0m \u001b[31m17.9 MB/s\u001b[0m eta \u001b[36m0:00:00\u001b[0m\n",
            "\u001b[?25hDownloading qiskit_terra-0.45.1-cp38-abi3-manylinux_2_17_x86_64.manylinux2014_x86_64.whl (6.3 MB)\n",
            "\u001b[2K   \u001b[90m━━━━━━━━━━━━━━━━━━━━━━━━━━━━━━━━━━━━━━━━\u001b[0m \u001b[32m6.3/6.3 MB\u001b[0m \u001b[31m27.7 MB/s\u001b[0m eta \u001b[36m0:00:00\u001b[0m\n",
            "\u001b[?25hDownloading dill-0.3.5.1-py2.py3-none-any.whl (95 kB)\n",
            "\u001b[2K   \u001b[90m━━━━━━━━━━━━━━━━━━━━━━━━━━━━━━━━━━━━━━━━\u001b[0m \u001b[32m95.8/95.8 kB\u001b[0m \u001b[31m6.6 MB/s\u001b[0m eta \u001b[36m0:00:00\u001b[0m\n",
            "\u001b[?25hDownloading rustworkx-0.16.0-cp39-abi3-manylinux_2_17_x86_64.manylinux2014_x86_64.whl (2.1 MB)\n",
            "\u001b[2K   \u001b[90m━━━━━━━━━━━━━━━━━━━━━━━━━━━━━━━━━━━━━━━━\u001b[0m \u001b[32m2.1/2.1 MB\u001b[0m \u001b[31m49.5 MB/s\u001b[0m eta \u001b[36m0:00:00\u001b[0m\n",
            "\u001b[?25hDownloading stevedore-5.4.1-py3-none-any.whl (49 kB)\n",
            "\u001b[2K   \u001b[90m━━━━━━━━━━━━━━━━━━━━━━━━━━━━━━━━━━━━━━━━\u001b[0m \u001b[32m49.5/49.5 kB\u001b[0m \u001b[31m2.2 MB/s\u001b[0m eta \u001b[36m0:00:00\u001b[0m\n",
            "\u001b[?25hDownloading symengine-0.14.1-cp311-cp311-manylinux_2_17_x86_64.manylinux2014_x86_64.whl (50.4 MB)\n",
            "\u001b[2K   \u001b[90m━━━━━━━━━━━━━━━━━━━━━━━━━━━━━━━━━━━━━━━━\u001b[0m \u001b[32m50.4/50.4 MB\u001b[0m \u001b[31m11.1 MB/s\u001b[0m eta \u001b[36m0:00:00\u001b[0m\n",
            "\u001b[?25hDownloading pbr-6.1.1-py2.py3-none-any.whl (108 kB)\n",
            "\u001b[2K   \u001b[90m━━━━━━━━━━━━━━━━━━━━━━━━━━━━━━━━━━━━━━━━\u001b[0m \u001b[32m109.0/109.0 kB\u001b[0m \u001b[31m756.7 kB/s\u001b[0m eta \u001b[36m0:00:00\u001b[0m\n",
            "\u001b[?25hBuilding wheels for collected packages: fastdtw\n",
            "  Building wheel for fastdtw (setup.py) ... \u001b[?25l\u001b[?25hdone\n",
            "  Created wheel for fastdtw: filename=fastdtw-0.3.4-cp311-cp311-linux_x86_64.whl size=542093 sha256=b6f9ab1ce95d17b1d59544af0dea1a60e8c0bf0a63f648a103c2b6fe06e174f0\n",
            "  Stored in directory: /root/.cache/pip/wheels/5c/8a/f6/fd3df9a9714677410a5ccbf3ca519e66db4a54a1c46ea95332\n",
            "Successfully built fastdtw\n",
            "Installing collected packages: symengine, rustworkx, pbr, fastdtw, dill, stevedore, qiskit-terra, qiskit-machine-learning, qiskit-algorithms, qiskit\n",
            "Successfully installed dill-0.3.5.1 fastdtw-0.3.4 pbr-6.1.1 qiskit-0.45.1 qiskit-algorithms-0.2.0 qiskit-machine-learning-0.6.0 qiskit-terra-0.45.1 rustworkx-0.16.0 stevedore-5.4.1 symengine-0.14.1\n"
          ]
        }
      ]
    },
    {
      "cell_type": "code",
      "execution_count": 3,
      "id": "116a8186",
      "metadata": {
        "execution": {
          "iopub.execute_input": "2023-04-06T09:35:44.724187Z",
          "iopub.status.busy": "2023-04-06T09:35:44.723706Z",
          "iopub.status.idle": "2023-04-06T09:35:45.237143Z",
          "shell.execute_reply": "2023-04-06T09:35:45.235993Z"
        },
        "papermill": {
          "duration": 0.533959,
          "end_time": "2023-04-06T09:35:45.240654",
          "exception": false,
          "start_time": "2023-04-06T09:35:44.706695",
          "status": "completed"
        },
        "tags": [],
        "id": "116a8186",
        "colab": {
          "base_uri": "https://localhost:8080/"
        },
        "outputId": "d2eaaa2b-7a06-42af-c8e3-12bfeead8490"
      },
      "outputs": [
        {
          "output_type": "stream",
          "name": "stderr",
          "text": [
            "<ipython-input-3-1a716f78ace1>:4: DeprecationWarning: The property ``qiskit.utils.algorithm_globals.QiskitAlgorithmGlobals.random_seed`` is deprecated as of qiskit 0.45.0. It will be removed no earlier than 3 months after the release date. This algorithm utility has been migrated to an independent package: https://github.com/qiskit-community/qiskit-algorithms. You can run ``pip install qiskit_algorithms`` and import ``from qiskit_algorithms.utils`` instead. \n",
            "  algorithm_globals.random_seed = 12345\n"
          ]
        }
      ],
      "source": [
        "# from qiskit_machine_learning.utils import algorithm_globals\n",
        "from qiskit.utils import algorithm_globals\n",
        "\n",
        "algorithm_globals.random_seed = 12345"
      ]
    },
    {
      "cell_type": "markdown",
      "id": "418372ec",
      "metadata": {
        "papermill": {
          "duration": 0.01429,
          "end_time": "2023-04-06T09:35:45.271697",
          "exception": false,
          "start_time": "2023-04-06T09:35:45.257407",
          "status": "completed"
        },
        "tags": [],
        "id": "418372ec"
      },
      "source": [
        "<a id='class'></a>\n",
        "## 2. Classification\n",
        "\n",
        "This section illustrates a quantum kernel classification workflow using `qiskit-machine-learning`."
      ]
    },
    {
      "cell_type": "markdown",
      "id": "7453af7c",
      "metadata": {
        "papermill": {
          "duration": 0.015405,
          "end_time": "2023-04-06T09:35:45.302573",
          "exception": false,
          "start_time": "2023-04-06T09:35:45.287168",
          "status": "completed"
        },
        "tags": [],
        "id": "7453af7c"
      },
      "source": [
        "### 2.1. Defining the dataset"
      ]
    },
    {
      "cell_type": "code",
      "execution_count": 4,
      "id": "0c0e24e9",
      "metadata": {
        "execution": {
          "iopub.execute_input": "2023-04-06T09:35:45.366091Z",
          "iopub.status.busy": "2023-04-06T09:35:45.365330Z",
          "iopub.status.idle": "2023-04-06T09:35:47.129942Z",
          "shell.execute_reply": "2023-04-06T09:35:47.128352Z"
        },
        "papermill": {
          "duration": 1.78478,
          "end_time": "2023-04-06T09:35:47.133563",
          "exception": false,
          "start_time": "2023-04-06T09:35:45.348783",
          "status": "completed"
        },
        "tags": [],
        "id": "0c0e24e9"
      },
      "outputs": [],
      "source": [
        "from qiskit_machine_learning.datasets import ad_hoc_data\n",
        "\n",
        "adhoc_dimension = 2\n",
        "train_features, train_labels, test_features, test_labels, adhoc_total = ad_hoc_data(\n",
        "    training_size=20,\n",
        "    test_size=5,\n",
        "    n=adhoc_dimension,\n",
        "    gap=0.3,\n",
        "    plot_data=False,\n",
        "    one_hot=False,\n",
        "    include_sample_total=True,\n",
        ")"
      ]
    },
    {
      "cell_type": "markdown",
      "id": "662c9afc",
      "metadata": {
        "papermill": {
          "duration": 0.015001,
          "end_time": "2023-04-06T09:35:47.164231",
          "exception": false,
          "start_time": "2023-04-06T09:35:47.149230",
          "status": "completed"
        },
        "tags": [],
        "id": "662c9afc"
      },
      "source": [
        "This dataset is two-dimensional, the two features are represented by the $x$ and $y$ coordinates, and it has two class labels: A and B. We can plot it and see what the distribution looks like:"
      ]
    },
    {
      "cell_type": "code",
      "execution_count": 5,
      "id": "6bc2f49b",
      "metadata": {
        "execution": {
          "iopub.execute_input": "2023-04-06T09:35:47.196971Z",
          "iopub.status.busy": "2023-04-06T09:35:47.196407Z",
          "iopub.status.idle": "2023-04-06T09:35:47.567328Z",
          "shell.execute_reply": "2023-04-06T09:35:47.565432Z"
        },
        "papermill": {
          "duration": 0.390751,
          "end_time": "2023-04-06T09:35:47.570217",
          "exception": false,
          "start_time": "2023-04-06T09:35:47.179466",
          "status": "completed"
        },
        "tags": [
          "nbsphinx-thumbnail"
        ],
        "colab": {
          "base_uri": "https://localhost:8080/",
          "height": 468
        },
        "id": "6bc2f49b",
        "outputId": "6f445dad-fdf4-452d-b0c4-1b8a9fb53bb3"
      },
      "outputs": [
        {
          "output_type": "display_data",
          "data": {
            "text/plain": [
              "<Figure size 500x500 with 1 Axes>"
            ],
            "image/png": "[encoded data removed]"
          },
          "metadata": {}
        }
      ],
      "source": [
        "import matplotlib.pyplot as plt\n",
        "import numpy as np\n",
        "\n",
        "plt.figure(figsize=(5, 5))\n",
        "plt.ylim(0, 2 * np.pi)\n",
        "plt.xlim(0, 2 * np.pi)\n",
        "plt.imshow(\n",
        "    np.asmatrix(adhoc_total).T,\n",
        "    interpolation=\"nearest\",\n",
        "    origin=\"lower\",\n",
        "    cmap=\"RdBu\",\n",
        "    extent=[0, 2 * np.pi, 0, 2 * np.pi],\n",
        ")\n",
        "\n",
        "# A train plot\n",
        "plt.scatter(\n",
        "    train_features[\n",
        "        np.where(train_labels[:] == 0), 0\n",
        "    ],  # x coordinate of train_labels where class is 0\n",
        "    train_features[\n",
        "        np.where(train_labels[:] == 0), 1\n",
        "    ],  # y coordinate of train_labels where class is 0\n",
        "    marker=\"s\",\n",
        "    facecolors=\"w\",\n",
        "    edgecolors=\"b\",\n",
        "    label=\"A train\",\n",
        ")\n",
        "\n",
        "# B train plot\n",
        "plt.scatter(\n",
        "    train_features[\n",
        "        np.where(train_labels[:] == 1), 0\n",
        "    ],  # x coordinate of train_labels where class is 1\n",
        "    train_features[\n",
        "        np.where(train_labels[:] == 1), 1\n",
        "    ],  # y coordinate of train_labels where class is 1\n",
        "    marker=\"o\",\n",
        "    facecolors=\"w\",\n",
        "    edgecolors=\"r\",\n",
        "    label=\"B train\",\n",
        ")\n",
        "\n",
        "# A test plot\n",
        "plt.scatter(\n",
        "    test_features[np.where(test_labels[:] == 0), 0],  # x coordinate of test_labels where class is 0\n",
        "    test_features[np.where(test_labels[:] == 0), 1],  # y coordinate of test_labels where class is 0\n",
        "    marker=\"s\",\n",
        "    facecolors=\"b\",\n",
        "    edgecolors=\"w\",\n",
        "    label=\"A test\",\n",
        ")\n",
        "\n",
        "# B test plot\n",
        "plt.scatter(\n",
        "    test_features[np.where(test_labels[:] == 1), 0],  # x coordinate of test_labels where class is 1\n",
        "    test_features[np.where(test_labels[:] == 1), 1],  # y coordinate of test_labels where class is 1\n",
        "    marker=\"o\",\n",
        "    facecolors=\"r\",\n",
        "    edgecolors=\"w\",\n",
        "    label=\"B test\",\n",
        ")\n",
        "\n",
        "plt.legend(bbox_to_anchor=(1.05, 1), loc=\"upper left\", borderaxespad=0.0)\n",
        "plt.title(\"Ad hoc dataset for classification\")\n",
        "\n",
        "plt.show()"
      ]
    },
    {
      "cell_type": "markdown",
      "id": "c945de0d",
      "metadata": {
        "papermill": {
          "duration": 0.014597,
          "end_time": "2023-04-06T09:35:47.599564",
          "exception": false,
          "start_time": "2023-04-06T09:35:47.584967",
          "status": "completed"
        },
        "tags": [],
        "id": "c945de0d"
      },
      "source": [
        "### 2.2. Defining the quantum kernel\n",
        "\n",
        "The next step is to create a quantum kernel instance that will help classify this data.\n",
        "\n",
        "We use the `FidelityQuantumKernel` [class](https://github.com/Qiskit/qiskit-machine-learning/blob/main/qiskit_machine_learning/kernels/fidelity_quantum_kernel.py), and pass two input arguments to its constructor:\n",
        "\n",
        "1. `feature_map`: in this case, a two-qubit `ZZFeatureMap` [instance](https://qiskit.org/documentation/stubs/qiskit.circuit.library.ZZFeatureMap.html).\n",
        "\n",
        "2. `fidelity`: in this case, the `ComputeUncompute` [fidelity](https://qiskit.org/documentation/stubs/qiskit.algorithms.state_fidelities.ComputeUncompute.html) subroutine that leverages the `Sampler` [primitive](https://qiskit.org/documentation/stubs/qiskit.primitives.Sampler.html).\n",
        "\n",
        "**NOTE:** If you don't pass a `Sampler` or `Fidelity` instance, then the instances of the reference `Sampler` and `ComputeUncompute` classes (found in `qiskit.primitives`) will be created by default."
      ]
    },
    {
      "cell_type": "code",
      "execution_count": 6,
      "id": "414d05a5",
      "metadata": {
        "execution": {
          "iopub.execute_input": "2023-04-06T09:35:47.632283Z",
          "iopub.status.busy": "2023-04-06T09:35:47.631847Z",
          "iopub.status.idle": "2023-04-06T09:35:47.752742Z",
          "shell.execute_reply": "2023-04-06T09:35:47.751418Z"
        },
        "papermill": {
          "duration": 0.140971,
          "end_time": "2023-04-06T09:35:47.756159",
          "exception": false,
          "start_time": "2023-04-06T09:35:47.615188",
          "status": "completed"
        },
        "tags": [],
        "id": "414d05a5"
      },
      "outputs": [],
      "source": [
        "from qiskit.circuit.library import ZZFeatureMap\n",
        "from qiskit.primitives import Sampler\n",
        "from qiskit_algorithms.state_fidelities import ComputeUncompute\n",
        "from qiskit_machine_learning.kernels import FidelityQuantumKernel\n",
        "\n",
        "adhoc_feature_map = ZZFeatureMap(feature_dimension=adhoc_dimension, reps=2, entanglement=\"linear\")\n",
        "\n",
        "sampler = Sampler()\n",
        "\n",
        "fidelity = ComputeUncompute(sampler=sampler)\n",
        "\n",
        "adhoc_kernel = FidelityQuantumKernel(fidelity=fidelity, feature_map=adhoc_feature_map)"
      ]
    },
    {
      "cell_type": "markdown",
      "id": "3f9682ad",
      "metadata": {
        "papermill": {
          "duration": 0.014817,
          "end_time": "2023-04-06T09:35:47.786226",
          "exception": false,
          "start_time": "2023-04-06T09:35:47.771409",
          "status": "completed"
        },
        "tags": [],
        "id": "3f9682ad"
      },
      "source": [
        "### 2.3. Classification with SVC\n",
        "The quantum kernel can now be plugged into classical kernel methods, such as the `SVC` [algorithm](https://scikit-learn.org/stable/modules/svm.html) from `scikit-learn`. This algorithm allows us to define a [custom kernel](https://scikit-learn.org/stable/modules/svm.html#custom-kernels) in two ways:\n",
        "1. by providing the kernel as a **callable function**\n",
        "2. by precomputing the **kernel matrix**"
      ]
    },
    {
      "cell_type": "markdown",
      "id": "79c13bd5",
      "metadata": {
        "papermill": {
          "duration": 0.015581,
          "end_time": "2023-04-06T09:35:47.817163",
          "exception": false,
          "start_time": "2023-04-06T09:35:47.801582",
          "status": "completed"
        },
        "tags": [],
        "id": "79c13bd5"
      },
      "source": [
        "#### Kernel as a callable function\n",
        "\n",
        "We define a SVC model and directly pass the `evaluate` function of the quantum kernel as a callable. Once the model is created, we train it by calling the `fit` method on the training dataset and evaluate the model for accuracy with `score`."
      ]
    },
    {
      "cell_type": "code",
      "execution_count": 7,
      "id": "eba2f45e",
      "metadata": {
        "execution": {
          "iopub.execute_input": "2023-04-06T09:35:47.851465Z",
          "iopub.status.busy": "2023-04-06T09:35:47.851058Z",
          "iopub.status.idle": "2023-04-06T09:35:54.373809Z",
          "shell.execute_reply": "2023-04-06T09:35:54.371835Z"
        },
        "papermill": {
          "duration": 6.543888,
          "end_time": "2023-04-06T09:35:54.376913",
          "exception": false,
          "start_time": "2023-04-06T09:35:47.833025",
          "status": "completed"
        },
        "tags": [],
        "colab": {
          "base_uri": "https://localhost:8080/"
        },
        "id": "eba2f45e",
        "outputId": "64880f11-4a78-44de-8a96-3e34875ec13d"
      },
      "outputs": [
        {
          "output_type": "stream",
          "name": "stdout",
          "text": [
            "Callable kernel classification test score: 1.0\n"
          ]
        }
      ],
      "source": [
        "from sklearn.svm import SVC\n",
        "\n",
        "adhoc_svc = SVC(kernel=adhoc_kernel.evaluate)\n",
        "\n",
        "adhoc_svc.fit(train_features, train_labels)\n",
        "\n",
        "adhoc_score_callable_function = adhoc_svc.score(test_features, test_labels)\n",
        "\n",
        "print(f\"Callable kernel classification test score: {adhoc_score_callable_function}\")"
      ]
    },
    {
      "cell_type": "markdown",
      "id": "222efbfb",
      "metadata": {
        "papermill": {
          "duration": 0.015324,
          "end_time": "2023-04-06T09:35:54.407853",
          "exception": false,
          "start_time": "2023-04-06T09:35:54.392529",
          "status": "completed"
        },
        "tags": [],
        "id": "222efbfb"
      },
      "source": [
        "#### Precomputed kernel matrix\n",
        "\n",
        "Instead of passing a function of the quantum kernel as a callable, we can also precompute training and testing kernel matrices before passing them to the `scikit-learn` `SVC` algorithm.\n",
        "\n",
        "To extract the train and test matrices, we can call `evaluate` on the previously defined kernel and visualize them graphically as follows:"
      ]
    },
    {
      "cell_type": "code",
      "execution_count": 8,
      "id": "d25191d8",
      "metadata": {
        "execution": {
          "iopub.execute_input": "2023-04-06T09:35:54.442564Z",
          "iopub.status.busy": "2023-04-06T09:35:54.440894Z",
          "iopub.status.idle": "2023-04-06T09:36:00.748096Z",
          "shell.execute_reply": "2023-04-06T09:36:00.747068Z"
        },
        "papermill": {
          "duration": 6.327452,
          "end_time": "2023-04-06T09:36:00.751308",
          "exception": false,
          "start_time": "2023-04-06T09:35:54.423856",
          "status": "completed"
        },
        "tags": [],
        "colab": {
          "base_uri": "https://localhost:8080/",
          "height": 435
        },
        "id": "d25191d8",
        "outputId": "75feda44-b480-40db-8ca0-5047965a38f8"
      },
      "outputs": [
        {
          "output_type": "display_data",
          "data": {
            "text/plain": [
              "<Figure size 1000x500 with 2 Axes>"
            ],
            "image/png": "[encoded data removed]"
          },
          "metadata": {}
        }
      ],
      "source": [
        "adhoc_matrix_train = adhoc_kernel.evaluate(x_vec=train_features)\n",
        "adhoc_matrix_test = adhoc_kernel.evaluate(x_vec=test_features, y_vec=train_features)\n",
        "\n",
        "fig, axs = plt.subplots(1, 2, figsize=(10, 5))\n",
        "\n",
        "axs[0].imshow(\n",
        "    np.asmatrix(adhoc_matrix_train), interpolation=\"nearest\", origin=\"upper\", cmap=\"Blues\"\n",
        ")\n",
        "axs[0].set_title(\"Ad hoc training kernel matrix\")\n",
        "\n",
        "axs[1].imshow(np.asmatrix(adhoc_matrix_test), interpolation=\"nearest\", origin=\"upper\", cmap=\"Reds\")\n",
        "axs[1].set_title(\"Ad hoc testing kernel matrix\")\n",
        "\n",
        "plt.show()"
      ]
    },
    {
      "cell_type": "markdown",
      "id": "91bb6e26",
      "metadata": {
        "papermill": {
          "duration": 0.016011,
          "end_time": "2023-04-06T09:36:00.783767",
          "exception": false,
          "start_time": "2023-04-06T09:36:00.767756",
          "status": "completed"
        },
        "tags": [],
        "id": "91bb6e26"
      },
      "source": [
        "To use these matrices, we set the `kernel` parameter of a new `SVC` instance to `\"precomputed\"`. We train the classifier by calling `fit` with the training matrix and training dataset. Once the model is trained, we evaluate it using the test matrix on the test dataset."
      ]
    },
    {
      "cell_type": "code",
      "execution_count": 9,
      "id": "d819606e",
      "metadata": {
        "execution": {
          "iopub.execute_input": "2023-04-06T09:36:00.819899Z",
          "iopub.status.busy": "2023-04-06T09:36:00.819149Z",
          "iopub.status.idle": "2023-04-06T09:36:00.827643Z",
          "shell.execute_reply": "2023-04-06T09:36:00.826082Z"
        },
        "papermill": {
          "duration": 0.030135,
          "end_time": "2023-04-06T09:36:00.830757",
          "exception": false,
          "start_time": "2023-04-06T09:36:00.800622",
          "status": "completed"
        },
        "tags": [],
        "colab": {
          "base_uri": "https://localhost:8080/"
        },
        "id": "d819606e",
        "outputId": "757ecd56-da46-4aa2-83a8-c100c1d6d43b"
      },
      "outputs": [
        {
          "output_type": "stream",
          "name": "stdout",
          "text": [
            "Precomputed kernel classification test score: 1.0\n"
          ]
        }
      ],
      "source": [
        "adhoc_svc = SVC(kernel=\"precomputed\")\n",
        "\n",
        "adhoc_svc.fit(adhoc_matrix_train, train_labels)\n",
        "\n",
        "adhoc_score_precomputed_kernel = adhoc_svc.score(adhoc_matrix_test, test_labels)\n",
        "\n",
        "print(f\"Precomputed kernel classification test score: {adhoc_score_precomputed_kernel}\")"
      ]
    },
    {
      "cell_type": "markdown",
      "id": "eae0d76e",
      "metadata": {
        "papermill": {
          "duration": 0.015821,
          "end_time": "2023-04-06T09:36:00.863346",
          "exception": false,
          "start_time": "2023-04-06T09:36:00.847525",
          "status": "completed"
        },
        "tags": [],
        "id": "eae0d76e"
      },
      "source": [
        "### 2.4. Classification with QSVC\n",
        "\n",
        "`QSVC` is an alternative training algorithm provided by `qiskit-machine-learning` for convenience. It is an extension of `SVC` that takes in a quantum kernel instead of the `kernel.evaluate` method shown before."
      ]
    },
    {
      "cell_type": "code",
      "execution_count": 10,
      "id": "b7474ae3",
      "metadata": {
        "execution": {
          "iopub.execute_input": "2023-04-06T09:36:00.899162Z",
          "iopub.status.busy": "2023-04-06T09:36:00.898697Z",
          "iopub.status.idle": "2023-04-06T09:36:06.856640Z",
          "shell.execute_reply": "2023-04-06T09:36:06.855097Z"
        },
        "papermill": {
          "duration": 5.979889,
          "end_time": "2023-04-06T09:36:06.859770",
          "exception": false,
          "start_time": "2023-04-06T09:36:00.879881",
          "status": "completed"
        },
        "tags": [],
        "colab": {
          "base_uri": "https://localhost:8080/"
        },
        "id": "b7474ae3",
        "outputId": "d98d6566-42d0-4fbd-9ed5-c3eb52c8a341"
      },
      "outputs": [
        {
          "output_type": "stream",
          "name": "stdout",
          "text": [
            "QSVC classification test score: 1.0\n"
          ]
        }
      ],
      "source": [
        "from qiskit_machine_learning.algorithms import QSVC\n",
        "\n",
        "qsvc = QSVC(quantum_kernel=adhoc_kernel)\n",
        "\n",
        "qsvc.fit(train_features, train_labels)\n",
        "\n",
        "qsvc_score = qsvc.score(test_features, test_labels)\n",
        "\n",
        "print(f\"QSVC classification test score: {qsvc_score}\")"
      ]
    },
    {
      "cell_type": "markdown",
      "id": "2e0aeed9",
      "metadata": {
        "papermill": {
          "duration": 0.01526,
          "end_time": "2023-04-06T09:36:06.891209",
          "exception": false,
          "start_time": "2023-04-06T09:36:06.875949",
          "status": "completed"
        },
        "tags": [],
        "id": "2e0aeed9"
      },
      "source": [
        "### 2.5. Evaluation of models used for classification"
      ]
    },
    {
      "cell_type": "code",
      "execution_count": 11,
      "id": "d9766557",
      "metadata": {
        "execution": {
          "iopub.execute_input": "2023-04-06T09:36:06.925294Z",
          "iopub.status.busy": "2023-04-06T09:36:06.924797Z",
          "iopub.status.idle": "2023-04-06T09:36:06.932814Z",
          "shell.execute_reply": "2023-04-06T09:36:06.931134Z"
        },
        "papermill": {
          "duration": 0.029652,
          "end_time": "2023-04-06T09:36:06.936521",
          "exception": false,
          "start_time": "2023-04-06T09:36:06.906869",
          "status": "completed"
        },
        "tags": [],
        "colab": {
          "base_uri": "https://localhost:8080/"
        },
        "id": "d9766557",
        "outputId": "6fca2c8c-0d57-41de-fce6-de56b8d434f0"
      },
      "outputs": [
        {
          "output_type": "stream",
          "name": "stdout",
          "text": [
            "Classification Model                    | Accuracy Score\n",
            "---------------------------------------------------------\n",
            "SVC using kernel as a callable function |       1.00\n",
            "SVC using precomputed kernel matrix     |       1.00\n",
            "QSVC                                    |       1.00\n"
          ]
        }
      ],
      "source": [
        "print(f\"Classification Model                    | Accuracy Score\")\n",
        "print(f\"---------------------------------------------------------\")\n",
        "print(f\"SVC using kernel as a callable function | {adhoc_score_callable_function:10.2f}\")\n",
        "print(f\"SVC using precomputed kernel matrix     | {adhoc_score_precomputed_kernel:10.2f}\")\n",
        "print(f\"QSVC                                    | {qsvc_score:10.2f}\")"
      ]
    },
    {
      "cell_type": "markdown",
      "id": "9834e3d9",
      "metadata": {
        "papermill": {
          "duration": 0.015254,
          "end_time": "2023-04-06T09:36:06.967504",
          "exception": false,
          "start_time": "2023-04-06T09:36:06.952250",
          "status": "completed"
        },
        "tags": [],
        "id": "9834e3d9"
      },
      "source": [
        "As the classification dataset is small, we find that the three models achieve 100% accuracy."
      ]
    },
    {
      "cell_type": "markdown",
      "id": "f38ae1bb",
      "metadata": {
        "papermill": {
          "duration": 0.015431,
          "end_time": "2023-04-06T09:36:06.998499",
          "exception": false,
          "start_time": "2023-04-06T09:36:06.983068",
          "status": "completed"
        },
        "tags": [],
        "id": "f38ae1bb"
      },
      "source": [
        "<a id='clustering'></a>\n",
        "## 3. Clustering\n",
        "\n",
        "The second workflow in this tutorial focuses on a clustering task using `qiskit-machine-learning` and the spectral clustering algorithm from `scikit-learn`."
      ]
    },
    {
      "cell_type": "markdown",
      "id": "64c0535a",
      "metadata": {
        "papermill": {
          "duration": 0.015356,
          "end_time": "2023-04-06T09:36:07.029415",
          "exception": false,
          "start_time": "2023-04-06T09:36:07.014059",
          "status": "completed"
        },
        "tags": [],
        "id": "64c0535a"
      },
      "source": [
        "### 3.1. Defining the dataset\n",
        "\n",
        "We will once again use the _ad hoc dataset_, but now generated with a higher gap of `0.6` (previous example: `0.3`) between the two classes.\n",
        "\n",
        "Note that clustering falls under the category of unsupervised machine learning, so a test dataset is not required."
      ]
    },
    {
      "cell_type": "code",
      "execution_count": 12,
      "id": "23533f82",
      "metadata": {
        "execution": {
          "iopub.execute_input": "2023-04-06T09:36:07.063889Z",
          "iopub.status.busy": "2023-04-06T09:36:07.063432Z",
          "iopub.status.idle": "2023-04-06T09:36:07.674344Z",
          "shell.execute_reply": "2023-04-06T09:36:07.672833Z"
        },
        "papermill": {
          "duration": 0.63176,
          "end_time": "2023-04-06T09:36:07.677691",
          "exception": false,
          "start_time": "2023-04-06T09:36:07.045931",
          "status": "completed"
        },
        "tags": [],
        "id": "23533f82"
      },
      "outputs": [],
      "source": [
        "adhoc_dimension = 2\n",
        "train_features, train_labels, test_features, test_labels, adhoc_total = ad_hoc_data(\n",
        "    training_size=25,\n",
        "    test_size=0,\n",
        "    n=adhoc_dimension,\n",
        "    gap=0.6,\n",
        "    plot_data=False,\n",
        "    one_hot=False,\n",
        "    include_sample_total=True,\n",
        ")"
      ]
    },
    {
      "cell_type": "markdown",
      "id": "a2489f9d",
      "metadata": {
        "papermill": {
          "duration": 0.016386,
          "end_time": "2023-04-06T09:36:07.710589",
          "exception": false,
          "start_time": "2023-04-06T09:36:07.694203",
          "status": "completed"
        },
        "tags": [],
        "id": "a2489f9d"
      },
      "source": [
        " We plot the clustering dataset below:"
      ]
    },
    {
      "cell_type": "code",
      "execution_count": 13,
      "id": "455abae7",
      "metadata": {
        "execution": {
          "iopub.execute_input": "2023-04-06T09:36:07.747280Z",
          "iopub.status.busy": "2023-04-06T09:36:07.745981Z",
          "iopub.status.idle": "2023-04-06T09:36:08.031117Z",
          "shell.execute_reply": "2023-04-06T09:36:08.029481Z"
        },
        "papermill": {
          "duration": 0.30591,
          "end_time": "2023-04-06T09:36:08.034120",
          "exception": false,
          "start_time": "2023-04-06T09:36:07.728210",
          "status": "completed"
        },
        "tags": [],
        "colab": {
          "base_uri": "https://localhost:8080/",
          "height": 468
        },
        "id": "455abae7",
        "outputId": "9e54b0c0-8a8f-4183-bb01-e22f7b18a638"
      },
      "outputs": [
        {
          "output_type": "display_data",
          "data": {
            "text/plain": [
              "<Figure size 500x500 with 1 Axes>"
            ],
            "image/png": "[encoded data removed]"
          },
          "metadata": {}
        }
      ],
      "source": [
        "plt.figure(figsize=(5, 5))\n",
        "plt.ylim(0, 2 * np.pi)\n",
        "plt.xlim(0, 2 * np.pi)\n",
        "plt.imshow(\n",
        "    np.asmatrix(adhoc_total).T,\n",
        "    interpolation=\"nearest\",\n",
        "    origin=\"lower\",\n",
        "    cmap=\"RdBu\",\n",
        "    extent=[0, 2 * np.pi, 0, 2 * np.pi],\n",
        ")\n",
        "\n",
        "# A label plot\n",
        "plt.scatter(\n",
        "    # x coordinate (index 0) of training data where class is A or label is 0\n",
        "    train_features[np.where(train_labels[:] == 0), 0],\n",
        "    # y coordinate (index 1) of training data where class is A or label is 0\n",
        "    train_features[np.where(train_labels[:] == 0), 1],\n",
        "    marker=\"s\",\n",
        "    facecolors=\"w\",\n",
        "    edgecolors=\"b\",\n",
        "    label=\"A\",\n",
        ")\n",
        "\n",
        "# B label plot\n",
        "plt.scatter(\n",
        "    # x coordinate (index 0) of training data where class is B or label is 1\n",
        "    train_features[np.where(train_labels[:] == 1), 0],\n",
        "    # y coordinate (index 1) of training data where class is B or label is 1\n",
        "    train_features[np.where(train_labels[:] == 1), 1],\n",
        "    marker=\"o\",\n",
        "    facecolors=\"w\",\n",
        "    edgecolors=\"r\",\n",
        "    label=\"B\",\n",
        ")\n",
        "\n",
        "plt.legend(bbox_to_anchor=(1.05, 1), loc=\"upper left\", borderaxespad=0.0)\n",
        "plt.title(\"Ad hoc dataset for clustering\")\n",
        "\n",
        "plt.show()"
      ]
    },
    {
      "cell_type": "markdown",
      "id": "b54535c2",
      "metadata": {
        "papermill": {
          "duration": 0.015902,
          "end_time": "2023-04-06T09:36:08.066878",
          "exception": false,
          "start_time": "2023-04-06T09:36:08.050976",
          "status": "completed"
        },
        "tags": [],
        "id": "b54535c2"
      },
      "source": [
        "### 3.2. Defining the Quantum Kernel\n",
        "We use an identical setup as in the classification example. We create another instance of the `FidelityQuantumKernel` class with a `ZZFeatureMap`, but you might notice that in this case we do not provide a `fidelity` instance. This is because the `ComputeUncompute` method provided in the previous case is instantiated by default when the fidelity instance is not provided explicitly."
      ]
    },
    {
      "cell_type": "code",
      "execution_count": 14,
      "id": "51585677",
      "metadata": {
        "execution": {
          "iopub.execute_input": "2023-04-06T09:36:08.101956Z",
          "iopub.status.busy": "2023-04-06T09:36:08.101401Z",
          "iopub.status.idle": "2023-04-06T09:36:08.118279Z",
          "shell.execute_reply": "2023-04-06T09:36:08.116688Z"
        },
        "papermill": {
          "duration": 0.038674,
          "end_time": "2023-04-06T09:36:08.121780",
          "exception": false,
          "start_time": "2023-04-06T09:36:08.083106",
          "status": "completed"
        },
        "tags": [],
        "id": "51585677"
      },
      "outputs": [],
      "source": [
        "adhoc_feature_map = ZZFeatureMap(feature_dimension=adhoc_dimension, reps=2, entanglement=\"linear\")\n",
        "\n",
        "adhoc_kernel = FidelityQuantumKernel(feature_map=adhoc_feature_map)"
      ]
    },
    {
      "cell_type": "markdown",
      "id": "e46584e5",
      "metadata": {
        "papermill": {
          "duration": 0.016076,
          "end_time": "2023-04-06T09:36:08.154439",
          "exception": false,
          "start_time": "2023-04-06T09:36:08.138363",
          "status": "completed"
        },
        "tags": [],
        "id": "e46584e5"
      },
      "source": [
        "### 3.3. Clustering with the Spectral Clustering Model\n",
        "\n",
        "The `scikit-learn` spectral clustering algorithm allows us to define a custom kernel in two ways (just like `SVC`):\n",
        "1. by providing the kernel as a **callable function**\n",
        "2. by precomputing the **kernel matrix**.\n",
        "\n",
        "With the current `FidelityQuantumKernel` class in `qiskit-machine-learning`, we can only use the latter option, so we precompute the kernel matrix by calling `evaluate` and visualize it as follows:"
      ]
    },
    {
      "cell_type": "code",
      "execution_count": 15,
      "id": "a35bf488",
      "metadata": {
        "execution": {
          "iopub.execute_input": "2023-04-06T09:36:08.191476Z",
          "iopub.status.busy": "2023-04-06T09:36:08.189923Z",
          "iopub.status.idle": "2023-04-06T09:36:14.849931Z",
          "shell.execute_reply": "2023-04-06T09:36:14.848011Z"
        },
        "papermill": {
          "duration": 6.682311,
          "end_time": "2023-04-06T09:36:14.853272",
          "exception": false,
          "start_time": "2023-04-06T09:36:08.170961",
          "status": "completed"
        },
        "tags": [],
        "id": "a35bf488",
        "colab": {
          "base_uri": "https://localhost:8080/",
          "height": 468
        },
        "outputId": "4df14e83-dcd1-495d-ac71-93604e2ea249"
      },
      "outputs": [
        {
          "output_type": "display_data",
          "data": {
            "text/plain": [
              "<Figure size 500x500 with 1 Axes>"
            ],
            "image/png": "[encoded data removed]"
          },
          "metadata": {}
        }
      ],
      "source": [
        "adhoc_matrix = adhoc_kernel.evaluate(x_vec=train_features)\n",
        "\n",
        "plt.figure(figsize=(5, 5))\n",
        "plt.imshow(np.asmatrix(adhoc_matrix), interpolation=\"nearest\", origin=\"upper\", cmap=\"Greens\")\n",
        "plt.title(\"Ad hoc clustering kernel matrix\")\n",
        "plt.show()"
      ]
    },
    {
      "cell_type": "markdown",
      "id": "5c8b8c29",
      "metadata": {
        "papermill": {
          "duration": 0.017421,
          "end_time": "2023-04-06T09:36:14.888428",
          "exception": false,
          "start_time": "2023-04-06T09:36:14.871007",
          "status": "completed"
        },
        "tags": [],
        "id": "5c8b8c29"
      },
      "source": [
        "Next, we define a spectral clustering model and fit it using the precomputed kernel. Further, we score the labels using normalized mutual information, since we know the class labels a priori (before hand)."
      ]
    },
    {
      "cell_type": "code",
      "execution_count": 16,
      "id": "d1121441",
      "metadata": {
        "execution": {
          "iopub.execute_input": "2023-04-06T09:36:14.926891Z",
          "iopub.status.busy": "2023-04-06T09:36:14.926357Z",
          "iopub.status.idle": "2023-04-06T09:36:15.270328Z",
          "shell.execute_reply": "2023-04-06T09:36:15.269171Z"
        },
        "papermill": {
          "duration": 0.366402,
          "end_time": "2023-04-06T09:36:15.273386",
          "exception": false,
          "start_time": "2023-04-06T09:36:14.906984",
          "status": "completed"
        },
        "tags": [],
        "colab": {
          "base_uri": "https://localhost:8080/"
        },
        "id": "d1121441",
        "outputId": "ac7c92b0-54e5-43e2-8ff6-0ef6daac47d1"
      },
      "outputs": [
        {
          "output_type": "stream",
          "name": "stdout",
          "text": [
            "Clustering score: 0.7287008798015754\n"
          ]
        }
      ],
      "source": [
        "from sklearn.cluster import SpectralClustering\n",
        "from sklearn.metrics import normalized_mutual_info_score\n",
        "\n",
        "adhoc_spectral = SpectralClustering(2, affinity=\"precomputed\")\n",
        "\n",
        "cluster_labels = adhoc_spectral.fit_predict(adhoc_matrix)\n",
        "\n",
        "cluster_score = normalized_mutual_info_score(cluster_labels, train_labels)\n",
        "\n",
        "print(f\"Clustering score: {cluster_score}\")"
      ]
    },
    {
      "cell_type": "markdown",
      "id": "79e7f4bf",
      "metadata": {
        "papermill": {
          "duration": 0.016301,
          "end_time": "2023-04-06T09:36:15.308157",
          "exception": false,
          "start_time": "2023-04-06T09:36:15.291856",
          "status": "completed"
        },
        "tags": [],
        "id": "79e7f4bf"
      },
      "source": [
        "<a id='conclusion'></a>\n",
        "## 4. Conclusion\n",
        "\n",
        "In this notebook:\n",
        "\n",
        "* Understood how to define quantum kernels as instances of `FidelityQuantumKernel`\n",
        "* Used the `scikit-learn` `SVC` algorithm with a custom quantum kernel as a callable function vs precomputed quantum kernel matrix for classification\n",
        "* Trained classifiers with the `QSVC` algorithm from `qiskit-machine-learning`\n",
        "* Used the `scikit-learn` `SpectralClustering` algorithms with a precomputed quantum kernel matrix for clustering"
      ]
    }
  ],
  "metadata": {
    "kernelspec": {
      "display_name": "Python 3",
      "language": "python",
      "name": "python3"
    },
    "language_info": {
      "codemirror_mode": {
        "name": "ipython",
        "version": 3
      },
      "file_extension": ".py",
      "mimetype": "text/x-python",
      "name": "python",
      "nbconvert_exporter": "python",
      "pygments_lexer": "ipython3",
      "version": "3.7.12"
    },
    "papermill": {
      "default_parameters": {},
      "duration": 110.840813,
      "end_time": "2023-04-06T09:36:16.385593",
      "environment_variables": {},
      "exception": null,
      "input_path": "__notebook__.ipynb",
      "output_path": "__notebook__.ipynb",
      "parameters": {},
      "start_time": "2023-04-06T09:34:25.544780",
      "version": "2.4.0"
    },
    "colab": {
      "provenance": []
    }
  },
  "nbformat": 4,
  "nbformat_minor": 5
}